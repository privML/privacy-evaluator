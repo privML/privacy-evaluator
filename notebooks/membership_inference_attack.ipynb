{
 "cells": [
  {
   "cell_type": "code",
   "execution_count": null,
   "id": "9d7ab468",
   "metadata": {},
   "outputs": [],
   "source": [
    "import numpy as np\n",
    "\n",
    "import privacy_evaluator.models.torch.dcti.dcti as torch_dcti \n",
    "from privacy_evaluator.datasets.cifar10 import CIFAR10\n",
    "from privacy_evaluator.classifiers.classifier import Classifier\n",
    "from privacy_evaluator.attacks.membership_inference.black_box import MembershipInferenceBlackBoxAttack\n",
    "from privacy_evaluator.attacks.membership_inference.black_box_rule_based import MembershipInferenceBlackBoxRuleBasedAttack\n",
    "from privacy_evaluator.attacks.membership_inference.label_only_decision_boundary import MembershipInferenceLabelOnlyDecisionBoundaryAttack"
   ]
  },
  {
   "cell_type": "markdown",
   "id": "b2da0876",
   "metadata": {},
   "source": [
    "#  Membership Inference Attack Examples\n",
    "### Prepare datasets and Pytorch target model"
   ]
  },
  {
   "cell_type": "code",
   "execution_count": null,
   "id": "dcae11d8",
   "metadata": {},
   "outputs": [],
   "source": [
    "# CIFAR datasets\n",
    "x_train, y_train, x_test, y_test = CIFAR10.numpy(model_type='torch')\n",
    "\n",
    "# Wrapped Pytorch target model\n",
    "target_model = Classifier(torch_dcti.load_dcti(), loss = None, nb_classes=CIFAR10.N_CLASSES, input_shape=CIFAR10.INPUT_SHAPE)"
   ]
  },
  {
   "cell_type": "markdown",
   "id": "c7761c0c",
   "metadata": {},
   "source": [
    "## Membership Inference Black Box Attack\n",
    "### Prepare, fit and attack"
   ]
  },
  {
   "cell_type": "code",
   "execution_count": null,
   "id": "cd9e4799",
   "metadata": {},
   "outputs": [],
   "source": [
    "attack = MembershipInferenceBlackBoxAttack(target_model, x_train[:100], y_train[:100], x_test[:100], y_test[:100])\n",
    "attack.fit()\n",
    "attack.attack(x_train[:100], y_train[:100])"
   ]
  },
  {
   "cell_type": "markdown",
   "id": "5770d67d",
   "metadata": {},
   "source": [
    "### Create output"
   ]
  },
  {
   "cell_type": "code",
   "execution_count": null,
   "id": "8eaa9ed6",
   "metadata": {},
   "outputs": [],
   "source": [
    "attack.attack_output(x_train[:100], y_train[:100], np.ones((100,)))"
   ]
  },
  {
   "cell_type": "markdown",
   "id": "76a432f6",
   "metadata": {},
   "source": [
    "## Membership Inference Black Box Rule Based Attack\n",
    "### Prepare and attack"
   ]
  },
  {
   "cell_type": "code",
   "execution_count": null,
   "id": "35c9fc67",
   "metadata": {},
   "outputs": [],
   "source": [
    "attack = MembershipInferenceBlackBoxRuleBasedAttack(target_model, x_train, y_train, x_test, y_test)\n",
    "attack.attack(x_train, y_train)"
   ]
  },
  {
   "cell_type": "markdown",
   "id": "f4ecb6b3",
   "metadata": {},
   "source": [
    "### Create output"
   ]
  },
  {
   "cell_type": "code",
   "execution_count": null,
   "id": "274272d3",
   "metadata": {},
   "outputs": [],
   "source": [
    "attack.attack_output(x_train, y_train, np.ones((len(y_train),)))"
   ]
  },
  {
   "cell_type": "markdown",
   "id": "ee10af5d",
   "metadata": {},
   "source": [
    "## Membership Inference Label Only Decision Boundary Attack\n",
    "### Prepare, fit and attack"
   ]
  },
  {
   "cell_type": "code",
   "execution_count": null,
   "id": "73278928",
   "metadata": {},
   "outputs": [],
   "source": [
    "attack = MembershipInferenceLabelOnlyDecisionBoundaryAttack(target_model, x_train[:1], y_train[:1], x_test[:1], y_test[:1])\n",
    "attack.fit(max_iter=1, max_eval=1, init_eval=1)\n",
    "attack.attack(x_train[:1], y_train[:1])"
   ]
  },
  {
   "cell_type": "markdown",
   "id": "0e0b5639",
   "metadata": {},
   "source": [
    "### Create output"
   ]
  },
  {
   "cell_type": "code",
   "execution_count": null,
   "id": "ec3551f5",
   "metadata": {},
   "outputs": [],
   "source": [
    "attack.attack_output(x_train[:1], y_train[:1], np.ones((1,)))"
   ]
  }
 ],
 "metadata": {
  "kernelspec": {
   "name": "python395jvsc74a57bd0bdaae9e836e6796a4363c97979c836477756ef9f67b8698af83fef8b5f4ebf2e",
   "display_name": "Python 3.9.5 64-bit"
  },
  "language_info": {
   "codemirror_mode": {
    "name": "ipython",
    "version": 3
   },
   "file_extension": ".py",
   "mimetype": "text/x-python",
   "name": "python",
   "nbconvert_exporter": "python",
   "pygments_lexer": "ipython3",
   "version": "3.9.5"
  }
 },
 "nbformat": 4,
 "nbformat_minor": 5
}