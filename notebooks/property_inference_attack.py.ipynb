{
 "cells": [
  {
   "source": [
    "## Demo for Property Inference Attack (PIA)"
   ],
   "cell_type": "markdown",
   "metadata": {}
  },
  {
   "cell_type": "code",
   "execution_count": 1,
   "id": "10607993",
   "metadata": {},
   "outputs": [],
   "source": [
    "from privacy_evaluator.attacks.property_inference_attack import PropertyInferenceAttack\n",
    "from privacy_evaluator.classifiers.classifier import Classifier\n",
    "from privacy_evaluator.utils.data_utils import (\n",
    "    dataset_downloader,\n",
    "    new_dataset_from_size_dict,\n",
    ")\n",
    "from privacy_evaluator.utils.trainer import trainer\n",
    "from privacy_evaluator.models.torch.cnn import ConvNet\n",
    "\n",
    "import collections\n",
    "from matplotlib import pyplot as plt\n",
    "import warnings\n",
    "warnings.filterwarnings(\"ignore\")"
   ]
  },
  {
   "cell_type": "code",
   "execution_count": null,
   "id": "b23b768b",
   "metadata": {},
   "outputs": [],
   "source": []
  },
  {
   "cell_type": "code",
   "execution_count": null,
   "metadata": {},
   "outputs": [],
   "source": []
  }
 ],
 "metadata": {
  "kernelspec": {
   "display_name": "Python 3",
   "language": "python",
   "name": "python3"
  },
  "language_info": {
   "codemirror_mode": {
    "name": "ipython",
    "version": 3
   },
   "file_extension": ".py",
   "mimetype": "text/x-python",
   "name": "python",
   "nbconvert_exporter": "python",
   "pygments_lexer": "ipython3",
   "version": "3.9.5"
  }
 },
 "nbformat": 4,
 "nbformat_minor": 5
}