{
 "cells": [
  {
   "source": [
    "## Demo for Property Inference Attack (PIA)"
   ],
   "cell_type": "markdown",
   "metadata": {}
  },
  {
   "cell_type": "code",
   "execution_count": 4,
   "id": "10607993",
   "metadata": {},
   "outputs": [],
   "source": [
    "from privacy_evaluator.attacks.property_inference_attack import PropertyInferenceAttack\n",
    "from privacy_evaluator.classifiers.classifier import Classifier\n",
    "from privacy_evaluator.utils.data_utils import (\n",
    "    dataset_downloader,\n",
    "    new_dataset_from_size_dict,\n",
    ")\n",
    "from privacy_evaluator.utils.trainer import trainer\n",
    "from privacy_evaluator.models.torch.cnn import ConvNet\n",
    "\n",
    "import collections\n",
    "from matplotlib import pyplot as plt\n",
    "import warnings\n",
    "warnings.filterwarnings(\"ignore\")"
   ]
  },
  {
   "source": [
    "\n",
    "# Property Inference Attack on CIFAR10 Dataset\n",
    "\n",
    "## 1. Overview of the Dataset\n",
    "\n",
    "CIFAR10 is a dataset of colorful (RGB) images from 10 classes (airplane, automobile, bird, cat, deer, dog, frog, horse, ship, truck), consisting of 50000 training- and 10000 test- examples.\n",
    "\n",
    "The size of each image is $32\\times 32 \\times 3$:\n"
   ],
   "cell_type": "markdown",
   "metadata": {}
  },
  {
   "cell_type": "code",
   "execution_count": 5,
   "metadata": {},
   "outputs": [
    {
     "output_type": "stream",
     "name": "stdout",
     "text": [
      "(32, 32, 3)\n"
     ]
    }
   ],
   "source": [
    "train_dataset, test_dataset = dataset_downloader(\"CIFAR10\")\n",
    "input_shape = test_dataset[0][0].shape\n",
    "print(input_shape)"
   ]
  },
  {
   "source": [
    "As of now we can only perform binary attacks. Therefore as an example we use classes O (airplane) and 1 (automobile) from CIFAR10.\n",
    "\n",
    "We choose a sample size for each class (on which we train the target model):"
   ],
   "cell_type": "markdown",
   "metadata": {}
  },
  {
   "cell_type": "code",
   "execution_count": 9,
   "metadata": {},
   "outputs": [],
   "source": [
    "NUM_ELEMENTS_PER_CLASSES = {0: 1000, 1: 500}"
   ]
  },
  {
   "source": [
    "And then adjust the training set accordingly:"
   ],
   "cell_type": "markdown",
   "metadata": {}
  },
  {
   "cell_type": "code",
   "execution_count": 16,
   "metadata": {},
   "outputs": [
    {
     "output_type": "stream",
     "name": "stdout",
     "text": [
      "(1500, 32, 32, 3) (1500, 1)\n"
     ]
    }
   ],
   "source": [
    "train_set = new_dataset_from_size_dict(train_dataset, NUM_ELEMENTS_PER_CLASSES)\n",
    "print(train_set[0].shape, train_set[1].shape)"
   ]
  },
  {
   "source": [
    "## 2. Load and train your target model\n",
    "\n",
    "Load *your* personal target model in the next cell to perform the attack on it. Any PyTorch or TensorFlow model can be used.\n"
   ],
   "cell_type": "markdown",
   "metadata": {}
  },
  {
   "cell_type": "code",
   "execution_count": 13,
   "metadata": {},
   "outputs": [],
   "source": [
    "# For demonstration purposes we load the following ConvNet model for two input classes\n",
    "# (multi-class input will be supported in future releases):\n",
    "\n",
    "num_classes = len(NUM_ELEMENTS_PER_CLASSES)\n",
    "\n",
    "model = ConvNet(num_classes, input_shape, num_channels=(input_shape[-1], 16, 32, 64))"
   ]
  },
  {
   "cell_type": "code",
   "execution_count": 17,
   "metadata": {},
   "outputs": [],
   "source": [
    "trainer(train_set, NUM_ELEMENTS_PER_CLASSES, model, num_epochs=2)\n",
    "\n",
    "# Convert to ART classifier\n",
    "\n",
    "target_model = Classifier._to_art_classifier(model, num_classes, input_shape)"
   ]
  },
  {
   "source": [
    "## 3. Perform attack\n",
    "\n",
    "Each attack consists of several sub-attack (one for each element in \"ratios_for_attack\").\n",
    "\n",
    "In a sub-attack we create a number of shadow classifiers of the same architecture as the provided target model. \n",
    "\n",
    "Half of them will be trained on an unbalanced data set of the given ratio, the other half is trained on blanced data sets.\n",
    "\n",
    "The shadow classifiers serve as training set for a meta classifier, which finally predicts the likelihood of the target model to have a given property (i.e. the ratio)."
   ],
   "cell_type": "markdown",
   "metadata": {}
  },
  {
   "cell_type": "code",
   "execution_count": 18,
   "metadata": {},
   "outputs": [],
   "source": [
    "# Number of shadow classifiers (increase for better accuracy of the meta classifier, decrease when not enough computing power is available.)\n",
    "amount_sets = 1000 # needs to be even\n",
    "\n",
    "# Size of data set to train the shadow classifiers\n",
    "size_set = 100\n",
    "\n",
    "# Ratios to perform the attack for (the real ratios of our example target model is 0.66, so we )\n",
    "ratios_for_attack = [0.66,0.33]\n",
    "classes = [0,1]\n",
    "\n",
    "attack = PropertyInferenceAttack(target_model, train_set, verbose=1, size_set=size_set, \\\n",
    "    ratios_for_attack=ratios_for_attack, classes=classes,amount_sets=amount_sets)"
   ]
  },
  {
   "cell_type": "code",
   "execution_count": 19,
   "metadata": {},
   "outputs": [
    {
     "output_type": "stream",
     "name": "stdout",
     "text": [
      "Initiating Property Inference Attack ... \n",
      "Extracting features from target model ... \n",
      "(155266,)  --- features extracted from the target model.\n",
      "Creating set of 1 balanced shadow classifiers ... \n",
      "Creating shadow training sets\n",
      "Training shadow classifiers\n",
      "Performing PIA for various ratios ... \n",
      "  0%|          | 0/2 [00:00<?, ?it/s]Creating shadow training sets\n",
      "Training shadow classifiers\n",
      "Epoch 1/2\n",
      "1/1 [==============================] - 17s 17s/step - loss: 0.3198 - accuracy: 1.0000\n",
      "Epoch 2/2\n",
      "1/1 [==============================] - 2s 2s/step - loss: 0.2624 - accuracy: 1.0000\n",
      " 50%|█████     | 1/2 [00:22<00:22, 22.48s/it]Creating shadow training sets\n",
      "Training shadow classifiers\n",
      "Epoch 1/2\n",
      "1/1 [==============================] - 18s 18s/step - loss: 1.2816 - accuracy: 0.0000e+00\n",
      "Epoch 2/2\n",
      "1/1 [==============================] - 2s 2s/step - loss: 0.8567 - accuracy: 0.0000e+00\n",
      "100%|██████████| 2/2 [00:43<00:00, 22.00s/it]\n"
     ]
    }
   ],
   "source": [
    "output = attack.attack()"
   ]
  },
  {
   "cell_type": "code",
   "execution_count": 20,
   "metadata": {},
   "outputs": [
    {
     "output_type": "execute_result",
     "data": {
      "text/plain": [
       "('The most probable property is class 0: 0.67, class 1: 0.33 with a probability of 0.504490315914154.',\n",
       " {'class 0: 0.67, class 1: 0.33': 0.5044903,\n",
       "  'class 0: 0.34, class 1: 0.66': 0.49777275})"
      ]
     },
     "metadata": {},
     "execution_count": 20
    }
   ],
   "source": [
    "output"
   ]
  },
  {
   "source": [
    "## Human readable output of the attack:"
   ],
   "cell_type": "markdown",
   "metadata": {}
  },
  {
   "cell_type": "code",
   "execution_count": 21,
   "metadata": {},
   "outputs": [
    {
     "output_type": "execute_result",
     "data": {
      "text/plain": [
       "'The most probable property is class 0: 0.67, class 1: 0.33 with a probability of 0.504490315914154.'"
      ]
     },
     "metadata": {},
     "execution_count": 21
    }
   ],
   "source": [
    "output[0]"
   ]
  }
 ],
 "metadata": {
  "kernelspec": {
   "display_name": "Python 3",
   "language": "python",
   "name": "python3"
  },
  "language_info": {
   "codemirror_mode": {
    "name": "ipython",
    "version": 3
   },
   "file_extension": ".py",
   "mimetype": "text/x-python",
   "name": "python",
   "nbconvert_exporter": "python",
   "pygments_lexer": "ipython3",
   "version": "3.7.3"
  }
 },
 "nbformat": 4,
 "nbformat_minor": 5
}