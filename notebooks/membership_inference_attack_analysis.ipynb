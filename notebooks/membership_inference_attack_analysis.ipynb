{
 "cells": [
  {
   "cell_type": "code",
   "execution_count": null,
   "metadata": {
    "execution": {
     "iopub.execute_input": "2021-06-10T13:59:47.272452Z",
     "iopub.status.busy": "2021-06-10T13:59:47.271855Z",
     "iopub.status.idle": "2021-06-10T13:59:57.239566Z",
     "shell.execute_reply": "2021-06-10T13:59:57.238711Z",
     "shell.execute_reply.started": "2021-06-10T13:59:47.272362Z"
    }
   },
   "outputs": [],
   "source": [
    "# needed only on kaggle.com\n",
    "!pip install llvmlite --ignore-installed --quiet"
   ]
  },
  {
   "cell_type": "code",
   "execution_count": null,
   "metadata": {
    "execution": {
     "iopub.execute_input": "2021-06-10T13:59:57.241810Z",
     "iopub.status.busy": "2021-06-10T13:59:57.241534Z",
     "iopub.status.idle": "2021-06-10T14:00:24.667032Z",
     "shell.execute_reply": "2021-06-10T14:00:24.666076Z",
     "shell.execute_reply.started": "2021-06-10T13:59:57.241784Z"
    }
   },
   "outputs": [],
   "source": [
    "!pip install git+https://github.com/privML/privacy-evaluator.git@feat/119-slicing-advantage-score --quiet"
   ]
  },
  {
   "cell_type": "code",
   "execution_count": null,
   "metadata": {
    "execution": {
     "iopub.execute_input": "2021-06-10T14:00:24.671136Z",
     "iopub.status.busy": "2021-06-10T14:00:24.670845Z",
     "iopub.status.idle": "2021-06-10T14:00:33.730859Z",
     "shell.execute_reply": "2021-06-10T14:00:33.729906Z",
     "shell.execute_reply.started": "2021-06-10T14:00:24.671108Z"
    }
   },
   "outputs": [],
   "source": [
    "import numpy as np\n",
    "import torch\n",
    "\n",
    "import privacy_evaluator.models.torch.dcti.dcti as torch_dcti \n",
    "from privacy_evaluator.datasets.cifar10 import CIFAR10\n",
    "from privacy_evaluator.classifiers.classifier import Classifier"
   ]
  },
  {
   "cell_type": "code",
   "execution_count": null,
   "metadata": {
    "execution": {
     "iopub.execute_input": "2021-06-10T14:00:33.732866Z",
     "iopub.status.busy": "2021-06-10T14:00:33.732493Z",
     "iopub.status.idle": "2021-06-10T14:01:58.589093Z",
     "shell.execute_reply": "2021-06-10T14:01:58.588276Z",
     "shell.execute_reply.started": "2021-06-10T14:00:33.732828Z"
    }
   },
   "outputs": [],
   "source": [
    "# CIFAR datasets\n",
    "x_train, y_train, x_test, y_test = CIFAR10.numpy(model_type='torch')\n",
    "\n",
    "# Wrapped Pytorch target model\n",
    "target_model = Classifier(\n",
    "    torch_dcti.load_dcti(), \n",
    "    loss=torch.nn.CrossEntropyLoss(), \n",
    "    nb_classes=CIFAR10.N_CLASSES, \n",
    "    input_shape=CIFAR10.INPUT_SHAPE)"
   ]
  },
  {
   "cell_type": "code",
   "execution_count": null,
   "metadata": {
    "execution": {
     "iopub.execute_input": "2021-06-10T14:01:58.591577Z",
     "iopub.status.busy": "2021-06-10T14:01:58.591298Z",
     "iopub.status.idle": "2021-06-10T14:01:58.596559Z",
     "shell.execute_reply": "2021-06-10T14:01:58.595766Z",
     "shell.execute_reply.started": "2021-06-10T14:01:58.591549Z"
    }
   },
   "outputs": [],
   "source": [
    "from privacy_evaluator.attacks.membership_inference import MembershipInferenceAttackAnalysis\n",
    "from privacy_evaluator.attacks.membership_inference import MembershipInferenceBlackBoxRuleBasedAttack\n",
    "\n",
    "from privacy_evaluator.attacks.membership_inference.data_structures.attack_input_data import AttackInputData\n",
    "from privacy_evaluator.attacks.membership_inference.data_structures.slicing import Slicing"
   ]
  },
  {
   "cell_type": "code",
   "execution_count": null,
   "metadata": {
    "execution": {
     "iopub.execute_input": "2021-06-10T14:01:58.598362Z",
     "iopub.status.busy": "2021-06-10T14:01:58.597994Z",
     "iopub.status.idle": "2021-06-10T14:02:27.468972Z",
     "shell.execute_reply": "2021-06-10T14:02:27.468098Z",
     "shell.execute_reply.started": "2021-06-10T14:01:58.598322Z"
    }
   },
   "outputs": [],
   "source": [
    "input_data = AttackInputData(x_train, y_train, x_test, y_test)\n",
    "attack_analysis = MembershipInferenceAttackAnalysis(MembershipInferenceBlackBoxRuleBasedAttack, input_data)\n",
    "\n",
    "x = np.concatenate((x_train, x_test))\n",
    "y = np.concatenate((y_train, y_test))\n",
    "membership = np.concatenate((np.ones(len(x_train)), np.zeros(len(x_test))))\n",
    "slicing = Slicing(entire_dataset=True, by_class=True, by_classification_correctness=True)\n",
    "\n",
    "result = attack_analysis.analyse(target_model, x, y, membership, slicing)"
   ]
  },
  {
   "cell_type": "code",
   "execution_count": null,
   "metadata": {
    "execution": {
     "iopub.execute_input": "2021-06-10T14:02:27.470964Z",
     "iopub.status.busy": "2021-06-10T14:02:27.470554Z",
     "iopub.status.idle": "2021-06-10T14:02:27.479490Z",
     "shell.execute_reply": "2021-06-10T14:02:27.477389Z",
     "shell.execute_reply.started": "2021-06-10T14:02:27.470908Z"
    }
   },
   "outputs": [],
   "source": [
    "print(\"\\n\".join((str(r) for r in result)))"
   ]
  }
 ],
 "metadata": {
  "kernelspec": {
   "display_name": "Python 3",
   "language": "python",
   "name": "python3"
  },
  "language_info": {
   "codemirror_mode": {
    "name": "ipython",
    "version": 3
   },
   "file_extension": ".py",
   "mimetype": "text/x-python",
   "name": "python",
   "nbconvert_exporter": "python",
   "pygments_lexer": "ipython3",
   "version": "3.9.5"
  }
 },
 "nbformat": 4,
 "nbformat_minor": 4
}
