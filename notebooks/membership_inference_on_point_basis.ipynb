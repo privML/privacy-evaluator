{
 "cells": [
  {
   "cell_type": "markdown",
   "id": "Rf_QO8flWx6_",
   "metadata": {
    "id": "Rf_QO8flWx6_"
   },
   "source": [
    "# Membership Inference Attack On Point Basis (Privacy Risk Score)"
   ]
  },
  {
   "cell_type": "markdown",
   "id": "WKAYn2M4Wx7F",
   "metadata": {
    "id": "WKAYn2M4Wx7F"
   },
   "source": [
    "<table align=\"left\">\n",
    "  <td>\n",
    "    <a target=\"_blank\" href=\"https://colab.research.google.com/github/privML/privacy-evaluator/blob/main/notebooks/membership_inference_on_point_basis.ipynb\"><img src=\"https://raw.githubusercontent.com/privML/privacy-evaluator/team1sprint5/notebooks/images/colab_logo_32px.png\" />Run in Google Colab</a>\n",
    "  </td>\n",
    "  <td>\n",
    "    <a target=\"_blank\" href=\"https://github.com/privML/privacy-evaluator/blob/main/notebooks/membership_inference_on_point_basis.ipynb\"><img src=\"https://raw.githubusercontent.com/privML/privacy-evaluator/main/notebooks/images/GitHub-Mark-32px.png\" />View source on GitHub</a>\n",
    "  </td>\n",
    "</table>"
   ]
  },
  {
   "cell_type": "markdown",
   "id": "Ia0VmlzeWx7H",
   "metadata": {
    "id": "Ia0VmlzeWx7H"
   },
   "source": [
    "\n",
    "## Overview\n",
    "\n",
    "In this notebook, we want to show you how to use the `privacy-evaluator` tool to perform the Membership Inference Attacks On Point Basis also known as calculating the privacy risk score on both, a provided PyTorch and a provided Tensorflow model.\n"
   ]
  },
  {
   "cell_type": "markdown",
   "id": "DH6rB9KSWx7J",
   "metadata": {
    "id": "DH6rB9KSWx7J"
   },
   "source": [
    "## Setup\n",
    "\n",
    "First, you should set the notebook's runtime to use a GPU (e.g. if Colab is used go to ***Runtime > Change runtime type > Hardware accelerator***). Now we can install the `privacy-evaluator` package and import all needed modules."
   ]
  },
  {
   "cell_type": "code",
   "execution_count": null,
   "id": "lNU7L3GCWx7M",
   "metadata": {
    "id": "lNU7L3GCWx7M"
   },
   "outputs": [],
   "source": [
    "!pip3 install git+https://github.com/privML/privacy-evaluator@team1sprint5"
   ]
  },
  {
   "cell_type": "code",
   "execution_count": null,
   "id": "9d7ab468",
   "metadata": {
    "id": "9d7ab468",
    "scrolled": true
   },
   "outputs": [],
   "source": [
    "import tensorflow as tf\n",
    "import torch\n",
    "import numpy as np\n",
    "\n",
    "import tensorflow.python.ops.numpy_ops.np_config as np_config\n",
    "np_config.enable_numpy_behavior()\n",
    "\n",
    "import privacy_evaluator.models.torch.dcti.dcti as torch_dcti\n",
    "import privacy_evaluator.models.tf.dcti.dcti as tf_dcti \n",
    "\n",
    "from privacy_evaluator.datasets.tf.cifar10 import TFCIFAR10\n",
    "from privacy_evaluator.datasets.torch.cifar10 import TorchCIFAR10\n",
    "\n",
    "from privacy_evaluator.classifiers.classifier import Classifier\n",
    "\n",
    "from privacy_evaluator.attacks.membership_inference.on_point_basis import MembershipInferenceAttackOnPointBasis\n",
    "from privacy_evaluator.attacks.membership_inference import MembershipInferenceAttackAnalysis\n",
    "\n",
    "from privacy_evaluator.output.user_output_privacy_score import UserOutputPrivacyScore\n",
    "\n",
    "from privacy_evaluator.attacks.membership_inference import MembershipInferenceAttackAnalysis\n",
    "\n",
    "from privacy_evaluator.attacks.membership_inference.data_structures.attack_input_data import AttackInputData\n",
    "from privacy_evaluator.attacks.membership_inference.data_structures.slicing import Slicing\n"
   ]
  },
  {
   "cell_type": "markdown",
   "id": "mUH4YQ4tWx7Q",
   "metadata": {
    "id": "mUH4YQ4tWx7Q"
   },
   "source": [
    "## Conduct Membership Inference Attack On Point Basis\n",
    "\n",
    "Now we can start with conducting the Membership Inference Attacks On Point Basis. Therefore, we prepared two instances of the attack: one attacking a PyTorch model and attacking a TensorFlow model. For both attacks, we implemented a simple neural network trained on the CIFAR-10 dataset. For details about the provided network have a look at the following paper: https://www.scitepress.org/Papers/2018/67520/67520.pdf)."
   ]
  },
  {
   "cell_type": "markdown",
   "id": "b2da0876",
   "metadata": {
    "id": "b2da0876"
   },
   "source": [
    "### PyTorch\n",
    "\n",
    "We start the evaluation of the PyTorch version of the model."
   ]
  },
  {
   "cell_type": "markdown",
   "id": "7aQIN6UMWx7W",
   "metadata": {
    "id": "7aQIN6UMWx7W"
   },
   "source": [
    "#### Prepare target model\n",
    "\n",
    "Now, we need to initialize our pre-trained Lightweight Deep Convolutional Neural Network (short DCTI) as a generic `Classifier`. Therefore we need to specify the loss function used to train the model (in our case the `torch.nn.CrossEntropyLoss`), the number of classes and the input shape of our CIFAR-10 dataset."
   ]
  },
  {
   "cell_type": "code",
   "execution_count": null,
   "id": "fz4UuSxMWx7Y",
   "metadata": {
    "id": "fz4UuSxMWx7Y"
   },
   "outputs": [],
   "source": [
    "# Initalize PyTorch model as a Classifier\n",
    "target_model = Classifier(\n",
    "    torch_dcti.load_dcti(), # PyTorch DCTI \n",
    "    loss=torch.nn.CrossEntropyLoss(reduction=\"none\"), # Loss function of the PyTorch model\n",
    "    nb_classes=TorchCIFAR10.N_CLASSES, # Number of classes of the CIFAR10 dataset\n",
    "    input_shape=TorchCIFAR10.INPUT_SHAPE # Input shape of the CIFAR10 dataset\n",
    ")"
   ]
  },
  {
   "cell_type": "markdown",
   "id": "sv_fGg8jWx7S",
   "metadata": {
    "id": "sv_fGg8jWx7S"
   },
   "source": [
    "#### Load CIFAR10 Dataset\n",
    "\n",
    "Before we can start to conduct the membership inference attacks, we need to load the dataset. The CIFAR10 dataset needs to be preprocessed in a specific manner to work for the PyTorch model."
   ]
  },
  {
   "cell_type": "code",
   "execution_count": null,
   "id": "dcae11d8",
   "metadata": {
    "id": "dcae11d8"
   },
   "outputs": [],
   "source": [
    "# Load CIFAR10 dataset as numpy array\n",
    "x_train, y_train, x_test, y_test = TorchCIFAR10.numpy()"
   ]
  },
  {
   "cell_type": "markdown",
   "id": "76a432f6",
   "metadata": {
    "id": "76a432f6"
   },
   "source": [
    "#### Perform Membership Attack on Point Basis\n",
    "\n",
    "Next, we want to perform a Membership Inference Attack on Point Basis its output is also known as Privacy Risk Score. In this case, we do not need to fit the attack because this approach depends only on the attacked the loss calculation of the data points and the target model.\n",
    "\n",
    "To do so, we input the target model and the data points which should be evaluated to the respective function. The given data points are separated into a train and tests set. The train set contains of the data (`x_train`) and its corresponding labels (`y_train`) which were used to train the target model. The test set contains the data (`x_test`) and its corresponding labels (`y_test`) which were not part of the training process of the target model. As a result, we get privacy risk scores for each data point, separated into train and test scores. The resulting values indicate the probability of a data point being a member or not."
   ]
  },
  {
   "cell_type": "code",
   "execution_count": null,
   "id": "GzT8PRx3EIVc",
   "metadata": {
    "id": "GzT8PRx3EIVc"
   },
   "outputs": [],
   "source": [
    "attack = MembershipInferenceAttackOnPointBasis(target_model, x_train[:400], y_train[:400], x_test[:400], y_test[:400])\n",
    "\n",
    "# Compute membership privacy risk score for the PyTorch model\n",
    "\n",
    "\n",
    "(train_privacy_risk_score, test_privacy_risk_score) = attack.attack()"
   ]
  },
  {
   "cell_type": "markdown",
   "id": "CQdBbr5CEKo6",
   "metadata": {
    "id": "CQdBbr5CEKo6"
   },
   "source": [
    "#### Get human-readable privacy risk score statistics\n",
    "\n",
    "We can create more human-readable privacy risk score statistics. Therefore we generate an output by providing the privacy risk scores and the true labels of the data points for which we computed the privacy risk scores. This output can then be visualized in two separate ways."
   ]
  },
  {
   "cell_type": "code",
   "execution_count": null,
   "id": "EEjwlA03ELD6",
   "metadata": {
    "id": "EEjwlA03ELD6"
   },
   "outputs": [],
   "source": [
    "# Create user output and plot histogram for train dataset\n",
    "output = UserOutputPrivacyScore(\n",
    "    np.argmax(y_train[:400], axis=1),\n",
    "    train_privacy_risk_score, \n",
    ")"
   ]
  },
  {
   "cell_type": "markdown",
   "id": "fgz5fsp0EOTO",
   "metadata": {
    "id": "fgz5fsp0EOTO"
   },
   "source": [
    "The first way to visualise the privacy risk scores is as a histogram. The histogram shows the distribution of the k-top data points with the highest privacy risk scores per class."
   ]
  },
  {
   "cell_type": "code",
   "execution_count": null,
   "id": "tvSypW8HEOzv",
   "metadata": {
    "id": "tvSypW8HEOzv"
   },
   "outputs": [],
   "source": [
    "# Plot absolut values \n",
    "labels, count = output.histogram_top_k(range(10), 50)"
   ]
  },
  {
   "cell_type": "markdown",
   "id": "0-zzVnlbERPK",
   "metadata": {
    "id": "0-zzVnlbERPK"
   },
   "source": [
    "As a second option, you can visualise the privacy risk scores again as a histogram of the distribution of the k-top data points with the highest privacy risk scores per class, but this time the values are relative to the size of respective classe"
   ]
  },
  {
   "cell_type": "code",
   "execution_count": null,
   "id": "78e80HEmERr7",
   "metadata": {
    "id": "78e80HEmERr7"
   },
   "outputs": [],
   "source": [
    "# Plot relative values \n",
    "labels, count = output.histogram_top_k_relative(range(10), 50)"
   ]
  },
  {
   "cell_type": "markdown",
   "id": "aPdWNxlgFOyU",
   "metadata": {
    "id": "aPdWNxlgFOyU"
   },
   "source": [
    "#### Explanation of the outcome:\n",
    "\n",
    "##### Vulnerability of individual data points:\n",
    "The training data points that exhibit an increased membership privacy risk might differ from their classes mean samples (outliers) [7]. You could check them again, see if they have the correct label, or if they exhibit any non-standard properties for the class. If so, correct them. It was also shown that points with an high influence on the decision boundary are more vulnerable to membership inference attacks [5]. Therefore, these points might be important. If you want to protect them, you might add several similar training samples as they are to the class. \n",
    "\n",
    "\n",
    "(For References, please see last box)"
   ]
  },
  {
   "cell_type": "markdown",
   "id": "xG4nYKGzWx7i",
   "metadata": {
    "id": "xG4nYKGzWx7i"
   },
   "source": [
    "### TensorFlow\n",
    "\n",
    "Now we do the same with the TensorFlow model."
   ]
  },
  {
   "cell_type": "markdown",
   "id": "_7ty54AKWx7k",
   "metadata": {
    "id": "_7ty54AKWx7k"
   },
   "source": [
    "#### Prepare target model\n",
    "\n",
    "Now, we need to initialize our pre-trained Lightweight Deep Convolutional Neural Network (short DCTI) as a generic `Classifier`. Therefore we need to specify the loss function used to train the model (in our case the `tf.keras.losses.CategoricalCrossentropy`), the number of classes and the input shape of our CIFAR-10 dataset."
   ]
  },
  {
   "cell_type": "code",
   "execution_count": null,
   "id": "Uhrn5znOWx7k",
   "metadata": {
    "id": "Uhrn5znOWx7k"
   },
   "outputs": [],
   "source": [
    "# Initalize TensorFlow target model\n",
    "target_model = Classifier(\n",
    "    tf_dcti.load_dcti(), # TensorFlow DCTI\n",
    "    loss=tf.keras.losses.CategoricalCrossentropy(), # Loss function of the TensorFlow target model\n",
    "    nb_classes=TFCIFAR10.N_CLASSES, # Number of classes of the CIFAR10 dataset\n",
    "    input_shape=TFCIFAR10.INPUT_SHAPE # Input shape of the CIFAR10 dataset\n",
    ")"
   ]
  },
  {
   "cell_type": "markdown",
   "id": "UBfeudg_Wx7i",
   "metadata": {
    "id": "UBfeudg_Wx7i"
   },
   "source": [
    "#### Load CIFAR10 Dataset\n",
    "\n",
    "Again, before we can start to conduct the membership inference attacks, we need to load the dataset. The CIFAR10 dataset needs to be preprocessed in a specific manner to work for the TensorFlow model."
   ]
  },
  {
   "cell_type": "code",
   "execution_count": null,
   "id": "kAJgfSgoWx7j",
   "metadata": {
    "id": "kAJgfSgoWx7j"
   },
   "outputs": [],
   "source": [
    "# Load CIFAR10 dataset as numpy array\n",
    "x_train, y_train, x_test, y_test = TFCIFAR10.numpy()"
   ]
  },
  {
   "cell_type": "markdown",
   "id": "cmEM23LTEpmo",
   "metadata": {
    "id": "cmEM23LTEpmo"
   },
   "source": [
    "#### Perform Membership Attack on Point Basis\n",
    "\n",
    "Next, we want to perform a Membership Inference Attack on Point Basis its output also known as Privacy Risk Score. In this case, we do not need to fit the attack because this approach depends only on the attacked the loss calculation of the data points and the target model.\n",
    "\n",
    "To do so, we input the target model and the data points which should be evaluated to the respective function. The given data points are separated into a train and tests set. The train set contains of the data (`x_train`) and its corresponding labels (`y_train`) which were used to train the target model. The test set contains the data (`x_test`) and its corresponding labels (`y_test`) which were not part of the training process of the target model. As a result, we get privacy risk scores for each data point, separated into train and test scores. The resulting values indicate the probability of a data point being a member or not."
   ]
  },
  {
   "cell_type": "code",
   "execution_count": null,
   "id": "tD9B3Es2EsEc",
   "metadata": {
    "id": "tD9B3Es2EsEc"
   },
   "outputs": [],
   "source": [
    "attack = MembershipInferenceAttackOnPointBasis(target_model, x_train[:100], y_train[:100], x_test[:100], y_test[:100])\n",
    "\n",
    "# Compute membership privacy risk score for the PyTorch model\n",
    "\n",
    "\n",
    "(train_privacy_risk_score, test_privacy_risk_score) = attack.attack()"
   ]
  },
  {
   "cell_type": "markdown",
   "id": "4LzAETqNEtmf",
   "metadata": {
    "id": "4LzAETqNEtmf"
   },
   "source": [
    "#### Get human-readable privacy risk score statistics\n",
    "\n",
    "We can create more human-readable privacy risk score statistics. Therefore we generate an output by providing the privacy risk scores and the true labels of the data points for which we computed the privacy risk scores. This output can then be visualized in two separate ways."
   ]
  },
  {
   "cell_type": "code",
   "execution_count": null,
   "id": "f6Se9E15Evx2",
   "metadata": {
    "id": "f6Se9E15Evx2"
   },
   "outputs": [],
   "source": [
    "# Create user output and plot histogram for train dataset\n",
    "output = UserOutputPrivacyScore(\n",
    "    np.argmax(y_train[:100], axis=1), \n",
    "    train_privacy_risk_score, \n",
    ")"
   ]
  },
  {
   "cell_type": "markdown",
   "id": "6IdryTLMExbv",
   "metadata": {
    "id": "6IdryTLMExbv"
   },
   "source": [
    "The first way to visualise the privacy risk scores is as a histogram. The histogram shows the distribution of the k-top data points with the highest privacy risk scores per class."
   ]
  },
  {
   "cell_type": "code",
   "execution_count": null,
   "id": "Y_OzKCPhEx6V",
   "metadata": {
    "id": "Y_OzKCPhEx6V"
   },
   "outputs": [],
   "source": [
    "# Plot absolut values \n",
    "labels, count = output.histogram_top_k(range(10), 50)"
   ]
  },
  {
   "cell_type": "markdown",
   "id": "AAtwXb71Ey0_",
   "metadata": {
    "id": "AAtwXb71Ey0_"
   },
   "source": [
    "As a second option, you can visualise the privacy risk scores again as a histogram of the distribution of the k-top data points with the highest privacy risk scores per class, but this time the values are relative to the size of respective classe"
   ]
  },
  {
   "cell_type": "code",
   "execution_count": null,
   "id": "Z-ImMLkyEzG0",
   "metadata": {
    "id": "Z-ImMLkyEzG0"
   },
   "outputs": [],
   "source": [
    "# Plot relative values \n",
    "labels, count = output.histogram_top_k_relative(range(10), 50)"
   ]
  },
  {
   "cell_type": "markdown",
   "id": "3ToJNWK5Fjzg",
   "metadata": {
    "id": "3ToJNWK5Fjzg"
   },
   "source": [
    "#### Explanation of the outcome:\n",
    "\n",
    "##### Vulnerability of individual data points:\n",
    "The training data points that exhibit an increased membership privacy risk might differ from their classes mean samples (outliers) [7]. You could check them again, see if they have the correct label, or if they exhibit any non-standard properties for the class. If so, correct them. It was also shown that points with an high influence on the decision boundary are more vulnerable to membership inference attacks [5]. Therefore, these points might be important. If you want to protect them, you might add several similar training samples as they are to the class. \n",
    "\n",
    "\n",
    "(For References, please see last box)"
   ]
  },
  {
   "cell_type": "markdown",
   "id": "LjKjKcOtFple",
   "metadata": {
    "id": "LjKjKcOtFple"
   },
   "source": [
    "[1]S. Yeom, I. Giacomelli, M. Fredrikson, and S. Jha. \\Privacy Risk in Machine Learning: Analyzing the Connection to Overfitting\". In: 2018 IEEE 31st Computer Security Foundations Symposium (CSF). July 2018, pp. 268{282. doi:10.1109/CSF.2018.00027.\n",
    "\n",
    "[2] Reza Shokri, Marco Stronati, Congzheng Song, and Vitaly Shmatikov. 2017. Mem-bership Inference Attacks Against Machine Learning Models. In2017 IEEE Sym-posium on Security and Privacy (SP). 3–18.\n",
    "\n",
    "[3] Milad Nasr, Reza Shokri, and Amir Houmansadr. 2018. Machine Learning withMembership Privacy Using Adversarial Regularization. InProceedings of the 2018ACM SIGSAC Conference on Computer and Communications Security(Toronto,Canada)(CCS ’18). Association for Computing Machinery, New York, NY, USA,634–64\n",
    "\n",
    "[4] Cynthia Dwork. 2006.  Differential Privacy. InAutomata, Languages and Pro-gramming, Michele Bugliesi, Bart Preneel, Vladimiro Sassone, and Ingo Wegener(Eds.). Springer Berlin Heidelberg, Berlin, Heidelberg\n",
    "\n",
    "[5] Stacey Truex, Ling Liu, Mehmet Emre Gursoy, Lei Yu, and Wenqi Wei. 2019.Demystifying Membership Inference Attacks in Machine Learning as a Service.IEEE Transactions on Services Computing(2019)\n",
    "\n",
    "[6] Suriyakumar, Vinith M., Nicolas Papernot, Anna Goldenberg, and Marzyeh Ghassemi. \"Chasing Your Long Tails: Differentially Private Prediction in Health Care Settings.\" In Proceedings of the 2021 ACM Conference on Fairness, Accountability, and Transparency, pp. 723-734. 2021.\n",
    "\n",
    "[7] Yunhui Long, Vincent Bindschaedler, Lei Wang, Diyue Bu, Xiaofeng Wang, HaixuTang, Carl A. Gunter, and Kai Chen. 2018.   Understanding Membership In-ferences on Well-Generalized Learning Models.CoRRabs/1802.04889 (2018).arXiv:1802.04889  http://arxiv.org/abs/1802.0\n"
   ]
  },
  {
   "cell_type": "code",
   "execution_count": null,
   "id": "V2w1YZGEFqH5",
   "metadata": {
    "id": "V2w1YZGEFqH5"
   },
   "outputs": [],
   "source": []
  }
 ],
 "metadata": {
  "accelerator": "GPU",
  "colab": {
   "collapsed_sections": [],
   "name": "membership_inference_black_box_rule_based_attack.ipynb",
   "provenance": []
  },
  "kernelspec": {
   "name": "python3",
   "display_name": "Python 3.9.5 64-bit"
  },
  "language_info": {
   "codemirror_mode": {
    "name": "ipython",
    "version": 3
   },
   "file_extension": ".py",
   "mimetype": "text/x-python",
   "name": "python",
   "nbconvert_exporter": "python",
   "pygments_lexer": "ipython3",
   "version": "3.9.5"
  },
  "interpreter": {
   "hash": "bdaae9e836e6796a4363c97979c836477756ef9f67b8698af83fef8b5f4ebf2e"
  }
 },
 "nbformat": 4,
 "nbformat_minor": 5
}