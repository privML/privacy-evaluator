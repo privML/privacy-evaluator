{
 "cells": [
  {
   "source": [
    "# Demo for Property Inference Attack (PIA)"
   ],
   "cell_type": "markdown",
   "metadata": {}
  },
  {
   "cell_type": "code",
   "execution_count": 7,
   "metadata": {},
   "outputs": [],
   "source": [
    "from privacy_evaluator.attacks.property_inference_attack import PropertyInferenceAttack\n",
    "from privacy_evaluator.classifiers.classifier import Classifier\n",
    "from privacy_evaluator.utils.data_utils import (\n",
    "    dataset_downloader,\n",
    "    new_dataset_from_size_dict,\n",
    ")\n",
    "from privacy_evaluator.utils.trainer import trainer\n",
    "from privacy_evaluator.models.torch.cnn import ConvNet\n",
    "\n",
    "import collections"
   ]
  },
  {
   "source": [
    "## Property Inference Attack on CIFAR10 Dataset\n",
    "### 1. Overview of Dataset"
   ],
   "cell_type": "markdown",
   "metadata": {}
  },
  {
   "cell_type": "code",
   "execution_count": 17,
   "metadata": {},
   "outputs": [
    {
     "output_type": "stream",
     "name": "stdout",
     "text": [
      "(32, 32, 3)\n"
     ]
    }
   ],
   "source": [
    "train_dataset, test_dataset = dataset_downloader(\"CIFAR10\")\n",
    "input_shape = test_dataset[0][0].shape\n",
    "print(input_shape)"
   ]
  },
  {
   "source": [
    "Here we have the class distribution for both training set and test set."
   ],
   "cell_type": "markdown",
   "metadata": {}
  },
  {
   "cell_type": "code",
   "execution_count": 16,
   "metadata": {},
   "outputs": [
    {
     "output_type": "stream",
     "name": "stdout",
     "text": [
      "[(0, 5000), (1, 5000), (2, 5000), (3, 5000), (4, 5000), (5, 5000), (6, 5000), (7, 5000), (8, 5000), (9, 5000)]\n[(0, 1000), (1, 1000), (2, 1000), (3, 1000), (4, 1000), (5, 1000), (6, 1000), (7, 1000), (8, 1000), (9, 1000)]\n"
     ]
    }
   ],
   "source": [
    "print(sorted(collections.Counter(train_dataset[1].flatten()).items()))\n",
    "print(sorted(collections.Counter(test_dataset[1].flatten()).items()))"
   ]
  },
  {
   "source": [
    "### 2. Organization of Training Data for Image Classifiers\n",
    "To similify our study, here we only take two classes (O: `airplane` and 1: `automobile`) from both the training- and test-dataset of CIFAR10.\n",
    "\n",
    "In this part we would like to clarify how we prepare training set(s) for our image classifiers:\n",
    "\n",
    "#### For Target Model  \n",
    "tbc\n",
    "#### For Shadow Classifiers \n",
    "tbc"
   ],
   "cell_type": "markdown",
   "metadata": {}
  },
  {
   "cell_type": "code",
   "execution_count": null,
   "metadata": {},
   "outputs": [],
   "source": [
    "num_elements_per_classes = {0: 1000, 1: 1000}\n",
    "num_classes = len(num_elements_per_classes)"
   ]
  },
  {
   "source": [
    "### 3. Model Architechture of Image Classifiers\n",
    "\n",
    "The target model and all the shadow classifiers share "
   ],
   "cell_type": "markdown",
   "metadata": {}
  },
  {
   "source": [
    "### 4. Meta Classifier\n",
    "#### 4.1. Architechture"
   ],
   "cell_type": "markdown",
   "metadata": {}
  },
  {
   "cell_type": "code",
   "execution_count": null,
   "metadata": {},
   "outputs": [],
   "source": []
  },
  {
   "source": [
    "#### 4.2. Input (Extracted Features)\n",
    "Here the each input instance is a flattened vector (**feature vector**) of all the trainable parameters from the corresponding image classifier. \n",
    "For example, the feature vector of our target model is"
   ],
   "cell_type": "markdown",
   "metadata": {}
  },
  {
   "cell_type": "code",
   "execution_count": null,
   "metadata": {},
   "outputs": [],
   "source": []
  },
  {
   "source": [
    "### 5. Results and Visualization"
   ],
   "cell_type": "markdown",
   "metadata": {}
  },
  {
   "source": [
    "## Property Inference Attack on MNIST Dataset\n",
    "### 1. Overview of Dataset"
   ],
   "cell_type": "markdown",
   "metadata": {}
  },
  {
   "cell_type": "code",
   "execution_count": 18,
   "metadata": {},
   "outputs": [
    {
     "output_type": "stream",
     "name": "stdout",
     "text": [
      "(28, 28)\n"
     ]
    }
   ],
   "source": [
    "train_dataset, test_dataset = dataset_downloader(\"MNIST\")\n",
    "input_shape = test_dataset[0][0].shape\n",
    "print(input_shape)"
   ]
  },
  {
   "cell_type": "code",
   "execution_count": 19,
   "metadata": {},
   "outputs": [
    {
     "output_type": "stream",
     "name": "stdout",
     "text": [
      "[(0, 5923), (1, 6742), (2, 5958), (3, 6131), (4, 5842), (5, 5421), (6, 5918), (7, 6265), (8, 5851), (9, 5949)]\n[(0, 980), (1, 1135), (2, 1032), (3, 1010), (4, 982), (5, 892), (6, 958), (7, 1028), (8, 974), (9, 1009)]\n"
     ]
    }
   ],
   "source": [
    "print(sorted(collections.Counter(train_dataset[1].flatten()).items()))\n",
    "print(sorted(collections.Counter(test_dataset[1].flatten()).items()))"
   ]
  },
  {
   "source": [
    "### 2. Image Classfiers\n",
    "As to the model architechture, we use the same as in CIFAR10 scenario. The only difference lies in the in"
   ],
   "cell_type": "markdown",
   "metadata": {}
  },
  {
   "source": [],
   "cell_type": "markdown",
   "metadata": {}
  },
  {
   "cell_type": "code",
   "execution_count": null,
   "metadata": {},
   "outputs": [],
   "source": []
  },
  {
   "source": [
    "### 3. Meta Classifier\n",
    "Here we apply the same meta classifier above."
   ],
   "cell_type": "markdown",
   "metadata": {}
  },
  {
   "cell_type": "code",
   "execution_count": null,
   "metadata": {},
   "outputs": [],
   "source": []
  },
  {
   "source": [
    "### 4. Results and Visualization"
   ],
   "cell_type": "markdown",
   "metadata": {}
  },
  {
   "cell_type": "code",
   "execution_count": null,
   "metadata": {},
   "outputs": [],
   "source": []
  }
 ],
 "metadata": {
  "kernelspec": {
   "name": "python395jvsc74a57bd04e1d9a8909477db77738c33245c29c7265277ef753467dede8cf3f814cde494e",
   "display_name": "Python 3.9.5 64-bit"
  },
  "language_info": {
   "codemirror_mode": {
    "name": "ipython",
    "version": 3
   },
   "file_extension": ".py",
   "mimetype": "text/x-python",
   "name": "python",
   "nbconvert_exporter": "python",
   "pygments_lexer": "ipython3",
   "version": "3.9.5"
  }
 },
 "nbformat": 4,
 "nbformat_minor": 1
}