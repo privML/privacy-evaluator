{
 "cells": [
  {
   "cell_type": "markdown",
   "metadata": {
    "id": "DvfxnZUWGZ7R"
   },
   "source": [
    "## Demo for Property Inference Attack (PIA)"
   ]
  },
  {
   "cell_type": "markdown",
   "metadata": {
    "id": "MPDjZtZbIZaf"
   },
   "source": [
    "[![Open In Colab](https://colab.research.google.com/assets/colab-badge.svg)](https://colab.research.google.com/github/privML/privacy-evaluator/blob/team2sprint4/notebooks/property_inference_attack.ipynb) [![Open in Github](https://raw.githubusercontent.com/privML/privacy-evaluator/main/notebooks/images/GitHub-Mark-32px.png)](https://github.com/privML/privacy-evaluator/blob/team2sprint4/notebooks/property_inference_attack.ipynb)"
   ]
  },
  {
   "cell_type": "code",
   "execution_count": 7,
   "metadata": {
    "id": "t_zNMqFHHUY4",
    "tags": []
   },
   "outputs": [
    {
     "name": "stdout",
     "output_type": "stream",
     "text": [
      "com/privML/privacy-evaluator (to revision team2sprint4) to /private/var/folders/_b/r90tkt1x6tvfxwwbrkgtkbpc0000gn/T/pip-req-build-fj7df9jr\n",
      "  Running command git clone -q https://github.com/privML/privacy-evaluator /private/var/folders/_b/r90tkt1x6tvfxwwbrkgtkbpc0000gn/T/pip-req-build-fj7df9jr\n",
      "  Running command git checkout -b team2sprint4 --track origin/team2sprint4\n",
      "  Switched to a new branch 'team2sprint4'\n",
      "  Branch 'team2sprint4' set up to track remote branch 'team2sprint4' from 'origin'.\n",
      "Requirement already satisfied: adversarial-robustness-toolbox[pytorch,tensorflow]==1.6.1 in /Users/mariesigmund/Desktop/SS_21/Softwareprojekt/privacy-evaluator/venv/lib/python3.7/site-packages (from privacy-evaluator==0.1) (1.6.1)\n",
      "Requirement already satisfied: numpy>=1.18.0 in /Users/mariesigmund/Desktop/SS_21/Softwareprojekt/privacy-evaluator/venv/lib/python3.7/site-packages (from adversarial-robustness-toolbox[pytorch,tensorflow]==1.6.1->privacy-evaluator==0.1) (1.19.5)\n",
      "Requirement already satisfied: Pillow in /Users/mariesigmund/Desktop/SS_21/Softwareprojekt/privacy-evaluator/venv/lib/python3.7/site-packages (from adversarial-robustness-toolbox[pytorch,tensorflow]==1.6.1->privacy-evaluator==0.1) (8.2.0)\n",
      "Requirement already satisfied: ffmpeg-python in /Users/mariesigmund/Desktop/SS_21/Softwareprojekt/privacy-evaluator/venv/lib/python3.7/site-packages (from adversarial-robustness-toolbox[pytorch,tensorflow]==1.6.1->privacy-evaluator==0.1) (0.2.0)\n",
      "Requirement already satisfied: statsmodels in /Users/mariesigmund/Desktop/SS_21/Softwareprojekt/privacy-evaluator/venv/lib/python3.7/site-packages (from adversarial-robustness-toolbox[pytorch,tensorflow]==1.6.1->privacy-evaluator==0.1) (0.12.2)\n",
      "Requirement already satisfied: pydub in /Users/mariesigmund/Desktop/SS_21/Softwareprojekt/privacy-evaluator/venv/lib/python3.7/site-packages (from adversarial-robustness-toolbox[pytorch,tensorflow]==1.6.1->privacy-evaluator==0.1) (0.25.1)\n",
      "Requirement already satisfied: mypy in /Users/mariesigmund/Desktop/SS_21/Softwareprojekt/privacy-evaluator/venv/lib/python3.7/site-packages (from adversarial-robustness-toolbox[pytorch,tensorflow]==1.6.1->privacy-evaluator==0.1) (0.902)\n",
      "Requirement already satisfied: resampy in /Users/mariesigmund/Desktop/SS_21/Softwareprojekt/privacy-evaluator/venv/lib/python3.7/site-packages (from adversarial-robustness-toolbox[pytorch,tensorflow]==1.6.1->privacy-evaluator==0.1) (0.2.2)\n",
      "Requirement already satisfied: scikit-learn<=0.24.1,>=0.22.2 in /Users/mariesigmund/Desktop/SS_21/Softwareprojekt/privacy-evaluator/venv/lib/python3.7/site-packages (from adversarial-robustness-toolbox[pytorch,tensorflow]==1.6.1->privacy-evaluator==0.1) (0.24.1)\n",
      "Requirement already satisfied: tqdm in /Users/mariesigmund/Desktop/SS_21/Softwareprojekt/privacy-evaluator/venv/lib/python3.7/site-packages (from adversarial-robustness-toolbox[pytorch,tensorflow]==1.6.1->privacy-evaluator==0.1) (4.61.1)\n",
      "Requirement already satisfied: six in /Users/mariesigmund/Desktop/SS_21/Softwareprojekt/privacy-evaluator/venv/lib/python3.7/site-packages (from adversarial-robustness-toolbox[pytorch,tensorflow]==1.6.1->privacy-evaluator==0.1) (1.15.0)\n",
      "Requirement already satisfied: numba~=0.53.1 in /Users/mariesigmund/Desktop/SS_21/Softwareprojekt/privacy-evaluator/venv/lib/python3.7/site-packages (from adversarial-robustness-toolbox[pytorch,tensorflow]==1.6.1->privacy-evaluator==0.1) (0.53.1)\n",
      "Requirement already satisfied: matplotlib in /Users/mariesigmund/Desktop/SS_21/Softwareprojekt/privacy-evaluator/venv/lib/python3.7/site-packages (from adversarial-robustness-toolbox[pytorch,tensorflow]==1.6.1->privacy-evaluator==0.1) (3.4.2)\n",
      "Requirement already satisfied: cma in /Users/mariesigmund/Desktop/SS_21/Softwareprojekt/privacy-evaluator/venv/lib/python3.7/site-packages (from adversarial-robustness-toolbox[pytorch,tensorflow]==1.6.1->privacy-evaluator==0.1) (3.0.3)\n",
      "Requirement already satisfied: setuptools in /Users/mariesigmund/Desktop/SS_21/Softwareprojekt/privacy-evaluator/venv/lib/python3.7/site-packages (from adversarial-robustness-toolbox[pytorch,tensorflow]==1.6.1->privacy-evaluator==0.1) (57.0.0)\n",
      "Requirement already satisfied: scipy>=1.4.1 in /Users/mariesigmund/Desktop/SS_21/Softwareprojekt/privacy-evaluator/venv/lib/python3.7/site-packages (from adversarial-robustness-toolbox[pytorch,tensorflow]==1.6.1->privacy-evaluator==0.1) (1.6.3)\n",
      "Requirement already satisfied: h5py in /Users/mariesigmund/Desktop/SS_21/Softwareprojekt/privacy-evaluator/venv/lib/python3.7/site-packages (from adversarial-robustness-toolbox[pytorch,tensorflow]==1.6.1->privacy-evaluator==0.1) (3.1.0)\n",
      "Requirement already satisfied: tensorflow-addons in /Users/mariesigmund/Desktop/SS_21/Softwareprojekt/privacy-evaluator/venv/lib/python3.7/site-packages (from adversarial-robustness-toolbox[pytorch,tensorflow]==1.6.1->privacy-evaluator==0.1) (0.13.0)\n",
      "Requirement already satisfied: tensorflow in /Users/mariesigmund/Desktop/SS_21/Softwareprojekt/privacy-evaluator/venv/lib/python3.7/site-packages (from adversarial-robustness-toolbox[pytorch,tensorflow]==1.6.1->privacy-evaluator==0.1) (2.5.0)\n",
      "Requirement already satisfied: torchvision in /Users/mariesigmund/Desktop/SS_21/Softwareprojekt/privacy-evaluator/venv/lib/python3.7/site-packages (from adversarial-robustness-toolbox[pytorch,tensorflow]==1.6.1->privacy-evaluator==0.1) (0.10.0)\n",
      "Requirement already satisfied: torch in /Users/mariesigmund/Desktop/SS_21/Softwareprojekt/privacy-evaluator/venv/lib/python3.7/site-packages (from adversarial-robustness-toolbox[pytorch,tensorflow]==1.6.1->privacy-evaluator==0.1) (1.9.0)\n",
      "Requirement already satisfied: torchaudio in /Users/mariesigmund/Desktop/SS_21/Softwareprojekt/privacy-evaluator/venv/lib/python3.7/site-packages (from adversarial-robustness-toolbox[pytorch,tensorflow]==1.6.1->privacy-evaluator==0.1) (0.9.0)\n",
      "Requirement already satisfied: llvmlite<0.37,>=0.36.0rc1 in /Users/mariesigmund/Desktop/SS_21/Softwareprojekt/privacy-evaluator/venv/lib/python3.7/site-packages (from numba~=0.53.1->adversarial-robustness-toolbox[pytorch,tensorflow]==1.6.1->privacy-evaluator==0.1) (0.36.0)\n",
      "Requirement already satisfied: joblib>=0.11 in /Users/mariesigmund/Desktop/SS_21/Softwareprojekt/privacy-evaluator/venv/lib/python3.7/site-packages (from scikit-learn<=0.24.1,>=0.22.2->adversarial-robustness-toolbox[pytorch,tensorflow]==1.6.1->privacy-evaluator==0.1) (1.0.1)\n",
      "Requirement already satisfied: threadpoolctl>=2.0.0 in /Users/mariesigmund/Desktop/SS_21/Softwareprojekt/privacy-evaluator/venv/lib/python3.7/site-packages (from scikit-learn<=0.24.1,>=0.22.2->adversarial-robustness-toolbox[pytorch,tensorflow]==1.6.1->privacy-evaluator==0.1) (2.1.0)\n",
      "Requirement already satisfied: future in /Users/mariesigmund/Desktop/SS_21/Softwareprojekt/privacy-evaluator/venv/lib/python3.7/site-packages (from ffmpeg-python->adversarial-robustness-toolbox[pytorch,tensorflow]==1.6.1->privacy-evaluator==0.1) (0.18.2)\n",
      "Requirement already satisfied: cached-property in /Users/mariesigmund/Desktop/SS_21/Softwareprojekt/privacy-evaluator/venv/lib/python3.7/site-packages (from h5py->adversarial-robustness-toolbox[pytorch,tensorflow]==1.6.1->privacy-evaluator==0.1) (1.5.2)\n",
      "Requirement already satisfied: kiwisolver>=1.0.1 in /Users/mariesigmund/Desktop/SS_21/Softwareprojekt/privacy-evaluator/venv/lib/python3.7/site-packages (from matplotlib->adversarial-robustness-toolbox[pytorch,tensorflow]==1.6.1->privacy-evaluator==0.1) (1.3.1)\n",
      "Requirement already satisfied: python-dateutil>=2.7 in /Users/mariesigmund/Desktop/SS_21/Softwareprojekt/privacy-evaluator/venv/lib/python3.7/site-packages (from matplotlib->adversarial-robustness-toolbox[pytorch,tensorflow]==1.6.1->privacy-evaluator==0.1) (2.8.1)\n",
      "Requirement already satisfied: cycler>=0.10 in /Users/mariesigmund/Desktop/SS_21/Softwareprojekt/privacy-evaluator/venv/lib/python3.7/site-packages (from matplotlib->adversarial-robustness-toolbox[pytorch,tensorflow]==1.6.1->privacy-evaluator==0.1) (0.10.0)\n",
      "Requirement already satisfied: pyparsing>=2.2.1 in /Users/mariesigmund/Desktop/SS_21/Softwareprojekt/privacy-evaluator/venv/lib/python3.7/site-packages (from matplotlib->adversarial-robustness-toolbox[pytorch,tensorflow]==1.6.1->privacy-evaluator==0.1) (2.4.7)\n",
      "Requirement already satisfied: mypy-extensions<0.5.0,>=0.4.3 in /Users/mariesigmund/Desktop/SS_21/Softwareprojekt/privacy-evaluator/venv/lib/python3.7/site-packages (from mypy->adversarial-robustness-toolbox[pytorch,tensorflow]==1.6.1->privacy-evaluator==0.1) (0.4.3)\n",
      "Requirement already satisfied: typing-extensions>=3.7.4 in /Users/mariesigmund/Desktop/SS_21/Softwareprojekt/privacy-evaluator/venv/lib/python3.7/site-packages (from mypy->adversarial-robustness-toolbox[pytorch,tensorflow]==1.6.1->privacy-evaluator==0.1) (3.7.4.3)\n",
      "Requirement already satisfied: typed-ast<1.5.0,>=1.4.0 in /Users/mariesigmund/Desktop/SS_21/Softwareprojekt/privacy-evaluator/venv/lib/python3.7/site-packages (from mypy->adversarial-robustness-toolbox[pytorch,tensorflow]==1.6.1->privacy-evaluator==0.1) (1.4.3)\n",
      "Requirement already satisfied: toml in /Users/mariesigmund/Desktop/SS_21/Softwareprojekt/privacy-evaluator/venv/lib/python3.7/site-packages (from mypy->adversarial-robustness-toolbox[pytorch,tensorflow]==1.6.1->privacy-evaluator==0.1) (0.10.2)\n",
      "Requirement already satisfied: patsy>=0.5 in /Users/mariesigmund/Desktop/SS_21/Softwareprojekt/privacy-evaluator/venv/lib/python3.7/site-packages (from statsmodels->adversarial-robustness-toolbox[pytorch,tensorflow]==1.6.1->privacy-evaluator==0.1) (0.5.1)\n",
      "Requirement already satisfied: pandas>=0.21 in /Users/mariesigmund/Desktop/SS_21/Softwareprojekt/privacy-evaluator/venv/lib/python3.7/site-packages (from statsmodels->adversarial-robustness-toolbox[pytorch,tensorflow]==1.6.1->privacy-evaluator==0.1) (1.2.4)\n",
      "Requirement already satisfied: pytz>=2017.3 in /Users/mariesigmund/Desktop/SS_21/Softwareprojekt/privacy-evaluator/venv/lib/python3.7/site-packages (from pandas>=0.21->statsmodels->adversarial-robustness-toolbox[pytorch,tensorflow]==1.6.1->privacy-evaluator==0.1) (2021.1)\n",
      "Requirement already satisfied: flatbuffers~=1.12.0 in /Users/mariesigmund/Desktop/SS_21/Softwareprojekt/privacy-evaluator/venv/lib/python3.7/site-packages (from tensorflow->adversarial-robustness-toolbox[pytorch,tensorflow]==1.6.1->privacy-evaluator==0.1) (1.12)\n",
      "Requirement already satisfied: astunparse~=1.6.3 in /Users/mariesigmund/Desktop/SS_21/Softwareprojekt/privacy-evaluator/venv/lib/python3.7/site-packages (from tensorflow->adversarial-robustness-toolbox[pytorch,tensorflow]==1.6.1->privacy-evaluator==0.1) (1.6.3)\n",
      "Requirement already satisfied: keras-nightly~=2.5.0.dev in /Users/mariesigmund/Desktop/SS_21/Softwareprojekt/privacy-evaluator/venv/lib/python3.7/site-packages (from tensorflow->adversarial-robustness-toolbox[pytorch,tensorflow]==1.6.1->privacy-evaluator==0.1) (2.5.0.dev2021032900)\n",
      "Requirement already satisfied: grpcio~=1.34.0 in /Users/mariesigmund/Desktop/SS_21/Softwareprojekt/privacy-evaluator/venv/lib/python3.7/site-packages (from tensorflow->adversarial-robustness-toolbox[pytorch,tensorflow]==1.6.1->privacy-evaluator==0.1) (1.34.1)\n",
      "Requirement already satisfied: opt-einsum~=3.3.0 in /Users/mariesigmund/Desktop/SS_21/Softwareprojekt/privacy-evaluator/venv/lib/python3.7/site-packages (from tensorflow->adversarial-robustness-toolbox[pytorch,tensorflow]==1.6.1->privacy-evaluator==0.1) (3.3.0)\n",
      "Requirement already satisfied: gast==0.4.0 in /Users/mariesigmund/Desktop/SS_21/Softwareprojekt/privacy-evaluator/venv/lib/python3.7/site-packages (from tensorflow->adversarial-robustness-toolbox[pytorch,tensorflow]==1.6.1->privacy-evaluator==0.1) (0.4.0)\n",
      "Requirement already satisfied: tensorboard~=2.5 in /Users/mariesigmund/Desktop/SS_21/Softwareprojekt/privacy-evaluator/venv/lib/python3.7/site-packages (from tensorflow->adversarial-robustness-toolbox[pytorch,tensorflow]==1.6.1->privacy-evaluator==0.1) (2.5.0)\n",
      "Requirement already satisfied: absl-py~=0.10 in /Users/mariesigmund/Desktop/SS_21/Softwareprojekt/privacy-evaluator/venv/lib/python3.7/site-packages (from tensorflow->adversarial-robustness-toolbox[pytorch,tensorflow]==1.6.1->privacy-evaluator==0.1) (0.13.0)\n",
      "Requirement already satisfied: wrapt~=1.12.1 in /Users/mariesigmund/Desktop/SS_21/Softwareprojekt/privacy-evaluator/venv/lib/python3.7/site-packages (from tensorflow->adversarial-robustness-toolbox[pytorch,tensorflow]==1.6.1->privacy-evaluator==0.1) (1.12.1)\n",
      "Requirement already satisfied: wheel~=0.35 in /Users/mariesigmund/Desktop/SS_21/Softwareprojekt/privacy-evaluator/venv/lib/python3.7/site-packages (from tensorflow->adversarial-robustness-toolbox[pytorch,tensorflow]==1.6.1->privacy-evaluator==0.1) (0.36.2)\n",
      "Requirement already satisfied: tensorflow-estimator<2.6.0,>=2.5.0rc0 in /Users/mariesigmund/Desktop/SS_21/Softwareprojekt/privacy-evaluator/venv/lib/python3.7/site-packages (from tensorflow->adversarial-robustness-toolbox[pytorch,tensorflow]==1.6.1->privacy-evaluator==0.1) (2.5.0)\n",
      "Requirement already satisfied: protobuf>=3.9.2 in /Users/mariesigmund/Desktop/SS_21/Softwareprojekt/privacy-evaluator/venv/lib/python3.7/site-packages (from tensorflow->adversarial-robustness-toolbox[pytorch,tensorflow]==1.6.1->privacy-evaluator==0.1) (3.17.3)\n",
      "Requirement already satisfied: keras-preprocessing~=1.1.2 in /Users/mariesigmund/Desktop/SS_21/Softwareprojekt/privacy-evaluator/venv/lib/python3.7/site-packages (from tensorflow->adversarial-robustness-toolbox[pytorch,tensorflow]==1.6.1->privacy-evaluator==0.1) (1.1.2)\n",
      "Requirement already satisfied: google-pasta~=0.2 in /Users/mariesigmund/Desktop/SS_21/Softwareprojekt/privacy-evaluator/venv/lib/python3.7/site-packages (from tensorflow->adversarial-robustness-toolbox[pytorch,tensorflow]==1.6.1->privacy-evaluator==0.1) (0.2.0)\n",
      "Requirement already satisfied: termcolor~=1.1.0 in /Users/mariesigmund/Desktop/SS_21/Softwareprojekt/privacy-evaluator/venv/lib/python3.7/site-packages (from tensorflow->adversarial-robustness-toolbox[pytorch,tensorflow]==1.6.1->privacy-evaluator==0.1) (1.1.0)\n",
      "Requirement already satisfied: requests<3,>=2.21.0 in /Users/mariesigmund/Desktop/SS_21/Softwareprojekt/privacy-evaluator/venv/lib/python3.7/site-packages (from tensorboard~=2.5->tensorflow->adversarial-robustness-toolbox[pytorch,tensorflow]==1.6.1->privacy-evaluator==0.1) (2.25.1)\n",
      "Requirement already satisfied: google-auth<2,>=1.6.3 in /Users/mariesigmund/Desktop/SS_21/Softwareprojekt/privacy-evaluator/venv/lib/python3.7/site-packages (from tensorboard~=2.5->tensorflow->adversarial-robustness-toolbox[pytorch,tensorflow]==1.6.1->privacy-evaluator==0.1) (1.31.0)\n",
      "Requirement already satisfied: markdown>=2.6.8 in /Users/mariesigmund/Desktop/SS_21/Softwareprojekt/privacy-evaluator/venv/lib/python3.7/site-packages (from tensorboard~=2.5->tensorflow->adversarial-robustness-toolbox[pytorch,tensorflow]==1.6.1->privacy-evaluator==0.1) (3.3.4)\n",
      "Requirement already satisfied: tensorboard-plugin-wit>=1.6.0 in /Users/mariesigmund/Desktop/SS_21/Softwareprojekt/privacy-evaluator/venv/lib/python3.7/site-packages (from tensorboard~=2.5->tensorflow->adversarial-robustness-toolbox[pytorch,tensorflow]==1.6.1->privacy-evaluator==0.1) (1.8.0)\n",
      "Requirement already satisfied: google-auth-oauthlib<0.5,>=0.4.1 in /Users/mariesigmund/Desktop/SS_21/Softwareprojekt/privacy-evaluator/venv/lib/python3.7/site-packages (from tensorboard~=2.5->tensorflow->adversarial-robustness-toolbox[pytorch,tensorflow]==1.6.1->privacy-evaluator==0.1) (0.4.4)\n",
      "Requirement already satisfied: werkzeug>=0.11.15 in /Users/mariesigmund/Desktop/SS_21/Softwareprojekt/privacy-evaluator/venv/lib/python3.7/site-packages (from tensorboard~=2.5->tensorflow->adversarial-robustness-toolbox[pytorch,tensorflow]==1.6.1->privacy-evaluator==0.1) (2.0.1)\n",
      "Requirement already satisfied: tensorboard-data-server<0.7.0,>=0.6.0 in /Users/mariesigmund/Desktop/SS_21/Softwareprojekt/privacy-evaluator/venv/lib/python3.7/site-packages (from tensorboard~=2.5->tensorflow->adversarial-robustness-toolbox[pytorch,tensorflow]==1.6.1->privacy-evaluator==0.1) (0.6.1)\n",
      "Requirement already satisfied: cachetools<5.0,>=2.0.0 in /Users/mariesigmund/Desktop/SS_21/Softwareprojekt/privacy-evaluator/venv/lib/python3.7/site-packages (from google-auth<2,>=1.6.3->tensorboard~=2.5->tensorflow->adversarial-robustness-toolbox[pytorch,tensorflow]==1.6.1->privacy-evaluator==0.1) (4.2.2)\n",
      "Requirement already satisfied: rsa<5,>=3.1.4 in /Users/mariesigmund/Desktop/SS_21/Softwareprojekt/privacy-evaluator/venv/lib/python3.7/site-packages (from google-auth<2,>=1.6.3->tensorboard~=2.5->tensorflow->adversarial-robustness-toolbox[pytorch,tensorflow]==1.6.1->privacy-evaluator==0.1) (4.7.2)\n",
      "Requirement already satisfied: pyasn1-modules>=0.2.1 in /Users/mariesigmund/Desktop/SS_21/Softwareprojekt/privacy-evaluator/venv/lib/python3.7/site-packages (from google-auth<2,>=1.6.3->tensorboard~=2.5->tensorflow->adversarial-robustness-toolbox[pytorch,tensorflow]==1.6.1->privacy-evaluator==0.1) (0.2.8)\n",
      "Requirement already satisfied: requests-oauthlib>=0.7.0 in /Users/mariesigmund/Desktop/SS_21/Softwareprojekt/privacy-evaluator/venv/lib/python3.7/site-packages (from google-auth-oauthlib<0.5,>=0.4.1->tensorboard~=2.5->tensorflow->adversarial-robustness-toolbox[pytorch,tensorflow]==1.6.1->privacy-evaluator==0.1) (1.3.0)\n",
      "Requirement already satisfied: importlib-metadata in /Users/mariesigmund/Desktop/SS_21/Softwareprojekt/privacy-evaluator/venv/lib/python3.7/site-packages (from markdown>=2.6.8->tensorboard~=2.5->tensorflow->adversarial-robustness-toolbox[pytorch,tensorflow]==1.6.1->privacy-evaluator==0.1) (4.5.0)\n",
      "Requirement already satisfied: pyasn1<0.5.0,>=0.4.6 in /Users/mariesigmund/Desktop/SS_21/Softwareprojekt/privacy-evaluator/venv/lib/python3.7/site-packages (from pyasn1-modules>=0.2.1->google-auth<2,>=1.6.3->tensorboard~=2.5->tensorflow->adversarial-robustness-toolbox[pytorch,tensorflow]==1.6.1->privacy-evaluator==0.1) (0.4.8)\n",
      "Requirement already satisfied: urllib3<1.27,>=1.21.1 in /Users/mariesigmund/Desktop/SS_21/Softwareprojekt/privacy-evaluator/venv/lib/python3.7/site-packages (from requests<3,>=2.21.0->tensorboard~=2.5->tensorflow->adversarial-robustness-toolbox[pytorch,tensorflow]==1.6.1->privacy-evaluator==0.1) (1.26.5)\n",
      "Requirement already satisfied: idna<3,>=2.5 in /Users/mariesigmund/Desktop/SS_21/Softwareprojekt/privacy-evaluator/venv/lib/python3.7/site-packages (from requests<3,>=2.21.0->tensorboard~=2.5->tensorflow->adversarial-robustness-toolbox[pytorch,tensorflow]==1.6.1->privacy-evaluator==0.1) (2.10)\n",
      "Requirement already satisfied: certifi>=2017.4.17 in /Users/mariesigmund/Desktop/SS_21/Softwareprojekt/privacy-evaluator/venv/lib/python3.7/site-packages (from requests<3,>=2.21.0->tensorboard~=2.5->tensorflow->adversarial-robustness-toolbox[pytorch,tensorflow]==1.6.1->privacy-evaluator==0.1) (2021.5.30)\n",
      "Requirement already satisfied: chardet<5,>=3.0.2 in /Users/mariesigmund/Desktop/SS_21/Softwareprojekt/privacy-evaluator/venv/lib/python3.7/site-packages (from requests<3,>=2.21.0->tensorboard~=2.5->tensorflow->adversarial-robustness-toolbox[pytorch,tensorflow]==1.6.1->privacy-evaluator==0.1) (4.0.0)\n",
      "Requirement already satisfied: oauthlib>=3.0.0 in /Users/mariesigmund/Desktop/SS_21/Softwareprojekt/privacy-evaluator/venv/lib/python3.7/site-packages (from requests-oauthlib>=0.7.0->google-auth-oauthlib<0.5,>=0.4.1->tensorboard~=2.5->tensorflow->adversarial-robustness-toolbox[pytorch,tensorflow]==1.6.1->privacy-evaluator==0.1) (3.1.1)\n",
      "Requirement already satisfied: zipp>=0.5 in /Users/mariesigmund/Desktop/SS_21/Softwareprojekt/privacy-evaluator/venv/lib/python3.7/site-packages (from importlib-metadata->markdown>=2.6.8->tensorboard~=2.5->tensorflow->adversarial-robustness-toolbox[pytorch,tensorflow]==1.6.1->privacy-evaluator==0.1) (3.4.1)\n",
      "Requirement already satisfied: typeguard>=2.7 in /Users/mariesigmund/Desktop/SS_21/Softwareprojekt/privacy-evaluator/venv/lib/python3.7/site-packages (from tensorflow-addons->adversarial-robustness-toolbox[pytorch,tensorflow]==1.6.1->privacy-evaluator==0.1) (2.12.1)\n"
     ]
    }
   ],
   "source": [
    "!pip3 install git+https://github.com/privML/privacy-evaluator@team2sprint4"
   ]
  },
  {
   "cell_type": "markdown",
   "metadata": {
    "id": "hedtyyE_GZ7Z"
   },
   "source": [
    "\n",
    "# Property Inference Attack on MNIST Dataset\n",
    "\n",
    "## 1. Overview of the Dataset\n",
    "\n",
    "MNIST is a dataset of black-and-white handwritten digits from 10 classes (0, 1, 2, 3, 4, 5, 6, 7, 8, 9), consisting of 60000 training- and 10000 test-images.\n",
    "\n",
    "The size of each image is $28\\times 28 \\times 1$:\n",
    "\n"
   ]
  },
  {
   "cell_type": "code",
   "execution_count": 1,
   "metadata": {
    "id": "10607993"
   },
   "outputs": [],
   "source": [
    "from privacy_evaluator.attacks.property_inference_attack import PropertyInferenceAttack\n",
    "from privacy_evaluator.classifiers.classifier import Classifier\n",
    "from privacy_evaluator.utils.data_utils import (\n",
    "    dataset_downloader,\n",
    "    new_dataset_from_size_dict,\n",
    ")\n",
    "from privacy_evaluator.utils.trainer import trainer\n",
    "from privacy_evaluator.models.torch.cnn import ConvNet\n",
    "\n",
    "import collections\n",
    "from matplotlib import pyplot as plt\n",
    "import warnings\n",
    "warnings.filterwarnings(\"ignore\")\n",
    "\n"
   ]
  },
  {
   "cell_type": "code",
   "execution_count": 2,
   "metadata": {
    "colab": {
     "base_uri": "https://localhost:8080/"
    },
    "id": "Jt71upsQGZ7a",
    "outputId": "df64070d-e7c1-48cd-db94-e6632f5d0ce0"
   },
   "outputs": [
    {
     "name": "stdout",
     "output_type": "stream",
     "text": [
      "(28, 28, 1)\n"
     ]
    }
   ],
   "source": [
    "train_dataset, test_dataset = dataset_downloader(\"MNIST\")\n",
    "input_shape = test_dataset[0][0].shape\n",
    "print(input_shape)"
   ]
  },
  {
   "cell_type": "markdown",
   "metadata": {
    "id": "vaZ15iLZGZ7c"
   },
   "source": [
    "As of now we can only perform binary attacks. Therefore as an example we use classes 0 and 1 from MNIST.\n",
    "\n",
    "We choose a sample size for each class (on which we train the target model):"
   ]
  },
  {
   "cell_type": "code",
   "execution_count": 3,
   "metadata": {
    "id": "WmHrXo7QGZ7d"
   },
   "outputs": [],
   "source": [
    "NUM_ELEMENTS_PER_CLASSES = {0: 1000, 1: 500}"
   ]
  },
  {
   "cell_type": "markdown",
   "metadata": {
    "id": "yrCu1SZzGZ7e"
   },
   "source": [
    "And then adjust the training set accordingly:"
   ]
  },
  {
   "cell_type": "code",
   "execution_count": 4,
   "metadata": {
    "colab": {
     "base_uri": "https://localhost:8080/"
    },
    "id": "wfqQFdCIGZ7e",
    "outputId": "7b637906-a182-476f-ccdc-769dcaeab06d"
   },
   "outputs": [
    {
     "name": "stdout",
     "output_type": "stream",
     "text": [
      "(1500, 28, 28, 1) (1500,)\n"
     ]
    }
   ],
   "source": [
    "train_set = new_dataset_from_size_dict(train_dataset, NUM_ELEMENTS_PER_CLASSES)\n",
    "print(train_set[0].shape, train_set[1].shape)"
   ]
  },
  {
   "cell_type": "markdown",
   "metadata": {
    "id": "v2IFaCSoGZ7f"
   },
   "source": [
    "## 2. Load and train your target model\n",
    "\n",
    "Load *your* personal target model in the next cell to perform the attack on it. Any PyTorch or TensorFlow model can be used.\n"
   ]
  },
  {
   "cell_type": "code",
   "execution_count": 5,
   "metadata": {
    "id": "Rr4BA37yGZ7i"
   },
   "outputs": [],
   "source": [
    "# For demonstration purposes we load the following ConvNet model for two input classes\n",
    "# (multi-class input will be supported in future releases):\n",
    "\n",
    "num_classes = len(NUM_ELEMENTS_PER_CLASSES)\n",
    "\n",
    "model = ConvNet(num_classes, input_shape, num_channels=(input_shape[-1], 16, 32, 64))  ### <--- Customize this line"
   ]
  },
  {
   "cell_type": "code",
   "execution_count": 6,
   "metadata": {
    "id": "Ds3forQVGZ7j"
   },
   "outputs": [],
   "source": [
    "trainer(train_set, NUM_ELEMENTS_PER_CLASSES, model, num_epochs=8)\n",
    "\n",
    "# Convert to ART classifier\n",
    "\n",
    "target_model = Classifier._to_art_classifier(model, \"sparse_categorical_crossentropy\", num_classes, input_shape)"
   ]
  },
  {
   "cell_type": "markdown",
   "metadata": {
    "id": "gG36p_-IGZ7k"
   },
   "source": [
    "## 3. Perform attack\n",
    "\n",
    "Each attack consists of several sub-attack (one for each element in \"ratios_for_attack\").\n",
    "\n",
    "In a sub-attack we create a number of shadow classifiers of the same architecture as the provided target model. \n",
    "\n",
    "Half of them will be trained on an unbalanced data set of the given ratio, the other half is trained on blanced data sets.\n",
    "\n",
    "The shadow classifiers serve as training set for a meta classifier, which finally predicts the likelihood of the target model to have a given property (i.e. the ratio)."
   ]
  },
  {
   "cell_type": "code",
   "execution_count": 7,
   "metadata": {
    "id": "qNThcpLfGZ7k"
   },
   "outputs": [],
   "source": [
    "# Number of shadow classifiers (increase for better accuracy of the meta classifier, decrease when not enough computing power is available.)\n",
    "amount_sets = 2 #needs to be even\n",
    "\n",
    "# Size of data set to train the shadow classifiers\n",
    "size_set = 6\n",
    "#Ratios to perform the attack for (the real ratios of our example target model is 0.66: {0: 1000, 1: 500}: 66% of data points are from class 0, 33% from class 1.)\n",
    "ratios_for_attack = [0.66,0.33]\n",
    "classes = [0,1]\n",
    "\n",
    "attack = PropertyInferenceAttack(target_model, train_set, verbose=1, size_set=size_set, \\\n",
    "    ratios_for_attack=ratios_for_attack, classes=classes,amount_sets=amount_sets)"
   ]
  },
  {
   "cell_type": "code",
   "execution_count": 8,
   "metadata": {
    "colab": {
     "base_uri": "https://localhost:8080/"
    },
    "id": "M3aihZM-GZ7l",
    "outputId": "99216e1b-7da5-427b-f20e-1531275ce0e6"
   },
   "outputs": [
    {
     "name": "stdout",
     "output_type": "stream",
     "text": [
      "Initiating Property Inference Attack ... \n",
      "Extracting features from target model ... \n",
      "(97634,)  --- features extracted from the target model.\n",
      "Creating set of 1 balanced shadow classifiers ... \n",
      "Creating shadow training sets\n",
      "Training shadow classifiers\n",
      "Performing PIA for various ratios ... \n",
      "  0%|          | 0/2 [00:00<?, ?it/s]Creating shadow training sets\n",
      "Training shadow classifiers\n",
      "Epoch 1/2\n",
      "1/1 [==============================] - 4s 4s/step - loss: 0.6164 - accuracy: 1.0000\n",
      "Epoch 2/2\n",
      "1/1 [==============================] - 0s 242ms/step - loss: 0.4046 - accuracy: 1.0000\n",
      " 50%|█████     | 1/2 [00:04<00:04,  4.43s/it]Creating shadow training sets\n",
      "Training shadow classifiers\n",
      "Epoch 1/2\n",
      "1/1 [==============================] - 4s 4s/step - loss: 0.8347 - accuracy: 0.0000e+00\n",
      "Epoch 2/2\n",
      "1/1 [==============================] - 0s 234ms/step - loss: 1.2677 - accuracy: 0.0000e+00\n",
      "100%|██████████| 2/2 [00:08<00:00,  4.42s/it]\n"
     ]
    }
   ],
   "source": [
    "output = attack.attack()"
   ]
  },
  {
   "cell_type": "code",
   "execution_count": 10,
   "metadata": {},
   "outputs": [
    {
     "data": {
      "text/plain": [
       "{'class 0: 0.67, class 1: 0.33': 0.5026385,\n",
       " 'class 0: 0.34, class 1: 0.66': 0.4971639}"
      ]
     },
     "execution_count": 10,
     "metadata": {},
     "output_type": "execute_result"
    }
   ],
   "source": [
    "output.output"
   ]
  },
  {
   "cell_type": "markdown",
   "metadata": {
    "id": "_Jf9lG3ZGZ7m"
   },
   "source": [
    "## Human readable output of the attack:"
   ]
  },
  {
   "cell_type": "code",
   "execution_count": 12,
   "metadata": {
    "colab": {
     "base_uri": "https://localhost:8080/",
     "height": 36
    },
    "id": "T2jl8mO7GZ7m",
    "outputId": "5f441506-c0bb-4dab-c497-19431b1104d5"
   },
   "outputs": [
    {
     "data": {
      "text/plain": [
       "'The most probable property is class 0: 0.67, class 1: 0.33 with a probability of 0.5026385188102722.'"
      ]
     },
     "execution_count": 12,
     "metadata": {},
     "output_type": "execute_result"
    }
   ],
   "source": [
    "output.max_message"
   ]
  }
 ],
 "metadata": {
  "colab": {
   "name": "property_inference_attack.py.ipynb",
   "provenance": []
  },
  "interpreter": {
   "hash": "fd69f43f58546b570e94fd7eba7b65e6bcc7a5bbc4eab0408017d18902915d69"
  },
  "kernelspec": {
   "display_name": "Python 3",
   "language": "python",
   "name": "python3"
  },
  "language_info": {
   "codemirror_mode": {
    "name": "ipython",
    "version": 3
   },
   "file_extension": ".py",
   "mimetype": "text/x-python",
   "name": "python",
   "nbconvert_exporter": "python",
   "pygments_lexer": "ipython3",
   "version": "3.8.5"
  },
  "metadata": {
   "interpreter": {
    "hash": "aee8b7b246df8f9039afb4144a1f6fd8d2ca17a180786b69acc140d282b71a49"
   }
  }
 },
 "nbformat": 4,
 "nbformat_minor": 5
}
