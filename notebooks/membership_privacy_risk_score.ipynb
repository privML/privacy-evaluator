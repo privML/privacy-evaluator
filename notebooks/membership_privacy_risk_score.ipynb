{
 "cells": [
  {
   "cell_type": "markdown",
   "metadata": {},
   "source": [
    "# Membership Privacy Risk Score Examples"
   ]
  },
  {
   "cell_type": "markdown",
   "metadata": {},
   "source": [
    "<table align=\"left\">\n",
    "  <td>\n",
    "    <a target=\"_blank\" href=\"https://colab.research.google.com/github/privML/privacy-evaluator/blob/master/notebooks/membership_privacy_risk_score.ipynb\"><img src=\"https://colab.research.google.com/github/privML/privacy-evaluator/blob/master/notebooks/images/colab_logo_32px.png\" />Run in Google Colab</a>\n",
    "  </td>\n",
    "  <td>\n",
    "    <a target=\"_blank\" href=\"https://github.com/privML/privacy-evaluator/blob/master/notebooks/membership_privacy_risk_score.ipynb\"><img src=\"https://colab.research.google.com/github/privML/privacy-evaluator/blob/master/notebooks/images/GitHub-Mark-32px.png\" />View source on GitHub</a>\n",
    "  </td>\n",
    "</table>"
   ]
  },
  {
   "cell_type": "markdown",
   "metadata": {},
   "source": [
    "## Overview\n",
    "In this notebook we'll use two simple image classification models pre-trained on the CIFAR10 dataset. The architecture of both models are based on https://www.scitepress.org/Papers/2018/67520/67520.pdf, one being implemented in PyTorch and the other in TensorFlow. The models will be used to compute each sample's probability of being in the training set, denoted as membership privacy risk score or short privacy risk score (cf. https://arxiv.org/abs/2003.10595). As dataset we will use the original CIFAR10 dataset."
   ]
  },
  {
   "cell_type": "markdown",
   "metadata": {},
   "source": [
    "## Setup\n",
    "First, we should set this notebook's runtime to use a GPU (e.g. if Colab is used go to ***Runtime > Change runtime type > Hardware accelerator***). Now we can install the `privacy-evaluator` \n",
    "package and import all needed modules."
   ]
  },
  {
   "cell_type": "code",
   "execution_count": 1,
   "metadata": {},
   "outputs": [
    {
     "name": "stdout",
     "output_type": "stream",
     "text": [
      "Collecting git+https://github.com/privML/privacy-evaluator\n",
      "  Cloning https://github.com/privML/privacy-evaluator to /tmp/pip-req-build-ahh2cgo1\n",
      "  Running command git clone -q https://github.com/privML/privacy-evaluator /tmp/pip-req-build-ahh2cgo1\n",
      "Requirement already satisfied: adversarial-robustness-toolbox[pytorch,tensorflow]==1.6.1 in /home/jakob/Dokumente/Uni/privacyML/env/lib/python3.9/site-packages (from privacy-evaluator==0.1) (1.6.1)\n",
      "Requirement already satisfied: six in /home/jakob/Dokumente/Uni/privacyML/env/lib/python3.9/site-packages (from adversarial-robustness-toolbox[pytorch,tensorflow]==1.6.1->privacy-evaluator==0.1) (1.15.0)\n",
      "Requirement already satisfied: Pillow in /home/jakob/Dokumente/Uni/privacyML/env/lib/python3.9/site-packages (from adversarial-robustness-toolbox[pytorch,tensorflow]==1.6.1->privacy-evaluator==0.1) (8.2.0)\n",
      "Requirement already satisfied: setuptools in /home/jakob/Dokumente/Uni/privacyML/env/lib/python3.9/site-packages (from adversarial-robustness-toolbox[pytorch,tensorflow]==1.6.1->privacy-evaluator==0.1) (56.0.0)\n",
      "Requirement already satisfied: matplotlib in /home/jakob/Dokumente/Uni/privacyML/env/lib/python3.9/site-packages (from adversarial-robustness-toolbox[pytorch,tensorflow]==1.6.1->privacy-evaluator==0.1) (3.4.2)\n",
      "Requirement already satisfied: pydub in /home/jakob/Dokumente/Uni/privacyML/env/lib/python3.9/site-packages (from adversarial-robustness-toolbox[pytorch,tensorflow]==1.6.1->privacy-evaluator==0.1) (0.25.1)\n",
      "Requirement already satisfied: scikit-learn<=0.24.1,>=0.22.2 in /home/jakob/Dokumente/Uni/privacyML/env/lib/python3.9/site-packages (from adversarial-robustness-toolbox[pytorch,tensorflow]==1.6.1->privacy-evaluator==0.1) (0.24.1)\n",
      "Requirement already satisfied: statsmodels in /home/jakob/Dokumente/Uni/privacyML/env/lib/python3.9/site-packages (from adversarial-robustness-toolbox[pytorch,tensorflow]==1.6.1->privacy-evaluator==0.1) (0.12.2)\n",
      "Requirement already satisfied: cma in /home/jakob/Dokumente/Uni/privacyML/env/lib/python3.9/site-packages (from adversarial-robustness-toolbox[pytorch,tensorflow]==1.6.1->privacy-evaluator==0.1) (3.0.3)\n",
      "Requirement already satisfied: resampy in /home/jakob/Dokumente/Uni/privacyML/env/lib/python3.9/site-packages (from adversarial-robustness-toolbox[pytorch,tensorflow]==1.6.1->privacy-evaluator==0.1) (0.2.2)\n",
      "Requirement already satisfied: scipy>=1.4.1 in /home/jakob/Dokumente/Uni/privacyML/env/lib/python3.9/site-packages (from adversarial-robustness-toolbox[pytorch,tensorflow]==1.6.1->privacy-evaluator==0.1) (1.6.3)\n",
      "Requirement already satisfied: numba~=0.53.1 in /home/jakob/Dokumente/Uni/privacyML/env/lib/python3.9/site-packages (from adversarial-robustness-toolbox[pytorch,tensorflow]==1.6.1->privacy-evaluator==0.1) (0.53.1)\n",
      "Requirement already satisfied: tqdm in /home/jakob/Dokumente/Uni/privacyML/env/lib/python3.9/site-packages (from adversarial-robustness-toolbox[pytorch,tensorflow]==1.6.1->privacy-evaluator==0.1) (4.61.0)\n",
      "Requirement already satisfied: numpy>=1.18.0 in /home/jakob/Dokumente/Uni/privacyML/env/lib/python3.9/site-packages (from adversarial-robustness-toolbox[pytorch,tensorflow]==1.6.1->privacy-evaluator==0.1) (1.19.5)\n",
      "Requirement already satisfied: ffmpeg-python in /home/jakob/Dokumente/Uni/privacyML/env/lib/python3.9/site-packages (from adversarial-robustness-toolbox[pytorch,tensorflow]==1.6.1->privacy-evaluator==0.1) (0.2.0)\n",
      "Requirement already satisfied: mypy in /home/jakob/Dokumente/Uni/privacyML/env/lib/python3.9/site-packages (from adversarial-robustness-toolbox[pytorch,tensorflow]==1.6.1->privacy-evaluator==0.1) (0.812)\n",
      "Requirement already satisfied: tensorflow-addons in /home/jakob/Dokumente/Uni/privacyML/env/lib/python3.9/site-packages (from adversarial-robustness-toolbox[pytorch,tensorflow]==1.6.1->privacy-evaluator==0.1) (0.13.0)\n",
      "Requirement already satisfied: h5py in /home/jakob/Dokumente/Uni/privacyML/env/lib/python3.9/site-packages (from adversarial-robustness-toolbox[pytorch,tensorflow]==1.6.1->privacy-evaluator==0.1) (3.1.0)\n",
      "Requirement already satisfied: tensorflow in /home/jakob/Dokumente/Uni/privacyML/env/lib/python3.9/site-packages (from adversarial-robustness-toolbox[pytorch,tensorflow]==1.6.1->privacy-evaluator==0.1) (2.5.0)\n",
      "Requirement already satisfied: torchvision in /home/jakob/Dokumente/Uni/privacyML/env/lib/python3.9/site-packages (from adversarial-robustness-toolbox[pytorch,tensorflow]==1.6.1->privacy-evaluator==0.1) (0.9.1)\n",
      "Requirement already satisfied: torchaudio in /home/jakob/Dokumente/Uni/privacyML/env/lib/python3.9/site-packages (from adversarial-robustness-toolbox[pytorch,tensorflow]==1.6.1->privacy-evaluator==0.1) (0.8.1)\n",
      "Requirement already satisfied: torch in /home/jakob/Dokumente/Uni/privacyML/env/lib/python3.9/site-packages (from adversarial-robustness-toolbox[pytorch,tensorflow]==1.6.1->privacy-evaluator==0.1) (1.8.1)\n",
      "Requirement already satisfied: llvmlite<0.37,>=0.36.0rc1 in /home/jakob/Dokumente/Uni/privacyML/env/lib/python3.9/site-packages (from numba~=0.53.1->adversarial-robustness-toolbox[pytorch,tensorflow]==1.6.1->privacy-evaluator==0.1) (0.36.0)\n",
      "Requirement already satisfied: threadpoolctl>=2.0.0 in /home/jakob/Dokumente/Uni/privacyML/env/lib/python3.9/site-packages (from scikit-learn<=0.24.1,>=0.22.2->adversarial-robustness-toolbox[pytorch,tensorflow]==1.6.1->privacy-evaluator==0.1) (2.1.0)\n",
      "Requirement already satisfied: joblib>=0.11 in /home/jakob/Dokumente/Uni/privacyML/env/lib/python3.9/site-packages (from scikit-learn<=0.24.1,>=0.22.2->adversarial-robustness-toolbox[pytorch,tensorflow]==1.6.1->privacy-evaluator==0.1) (1.0.1)\n",
      "Requirement already satisfied: future in /home/jakob/Dokumente/Uni/privacyML/env/lib/python3.9/site-packages (from ffmpeg-python->adversarial-robustness-toolbox[pytorch,tensorflow]==1.6.1->privacy-evaluator==0.1) (0.18.2)\n",
      "Requirement already satisfied: cycler>=0.10 in /home/jakob/Dokumente/Uni/privacyML/env/lib/python3.9/site-packages (from matplotlib->adversarial-robustness-toolbox[pytorch,tensorflow]==1.6.1->privacy-evaluator==0.1) (0.10.0)\n",
      "Requirement already satisfied: pyparsing>=2.2.1 in /home/jakob/Dokumente/Uni/privacyML/env/lib/python3.9/site-packages (from matplotlib->adversarial-robustness-toolbox[pytorch,tensorflow]==1.6.1->privacy-evaluator==0.1) (2.4.7)\n",
      "Requirement already satisfied: python-dateutil>=2.7 in /home/jakob/Dokumente/Uni/privacyML/env/lib/python3.9/site-packages (from matplotlib->adversarial-robustness-toolbox[pytorch,tensorflow]==1.6.1->privacy-evaluator==0.1) (2.8.1)\n",
      "Requirement already satisfied: kiwisolver>=1.0.1 in /home/jakob/Dokumente/Uni/privacyML/env/lib/python3.9/site-packages (from matplotlib->adversarial-robustness-toolbox[pytorch,tensorflow]==1.6.1->privacy-evaluator==0.1) (1.3.1)\n",
      "Requirement already satisfied: typing-extensions>=3.7.4 in /home/jakob/Dokumente/Uni/privacyML/env/lib/python3.9/site-packages (from mypy->adversarial-robustness-toolbox[pytorch,tensorflow]==1.6.1->privacy-evaluator==0.1) (3.7.4.3)\n",
      "Requirement already satisfied: mypy-extensions<0.5.0,>=0.4.3 in /home/jakob/Dokumente/Uni/privacyML/env/lib/python3.9/site-packages (from mypy->adversarial-robustness-toolbox[pytorch,tensorflow]==1.6.1->privacy-evaluator==0.1) (0.4.3)\n",
      "Requirement already satisfied: typed-ast<1.5.0,>=1.4.0 in /home/jakob/Dokumente/Uni/privacyML/env/lib/python3.9/site-packages (from mypy->adversarial-robustness-toolbox[pytorch,tensorflow]==1.6.1->privacy-evaluator==0.1) (1.4.3)\n",
      "Requirement already satisfied: patsy>=0.5 in /home/jakob/Dokumente/Uni/privacyML/env/lib/python3.9/site-packages (from statsmodels->adversarial-robustness-toolbox[pytorch,tensorflow]==1.6.1->privacy-evaluator==0.1) (0.5.1)\n",
      "Requirement already satisfied: pandas>=0.21 in /home/jakob/Dokumente/Uni/privacyML/env/lib/python3.9/site-packages (from statsmodels->adversarial-robustness-toolbox[pytorch,tensorflow]==1.6.1->privacy-evaluator==0.1) (1.2.4)\n",
      "Requirement already satisfied: pytz>=2017.3 in /home/jakob/Dokumente/Uni/privacyML/env/lib/python3.9/site-packages (from pandas>=0.21->statsmodels->adversarial-robustness-toolbox[pytorch,tensorflow]==1.6.1->privacy-evaluator==0.1) (2021.1)\n",
      "Requirement already satisfied: tensorboard~=2.5 in /home/jakob/Dokumente/Uni/privacyML/env/lib/python3.9/site-packages (from tensorflow->adversarial-robustness-toolbox[pytorch,tensorflow]==1.6.1->privacy-evaluator==0.1) (2.5.0)\n",
      "Requirement already satisfied: wheel~=0.35 in /home/jakob/Dokumente/Uni/privacyML/env/lib/python3.9/site-packages (from tensorflow->adversarial-robustness-toolbox[pytorch,tensorflow]==1.6.1->privacy-evaluator==0.1) (0.36.2)\n",
      "Requirement already satisfied: absl-py~=0.10 in /home/jakob/Dokumente/Uni/privacyML/env/lib/python3.9/site-packages (from tensorflow->adversarial-robustness-toolbox[pytorch,tensorflow]==1.6.1->privacy-evaluator==0.1) (0.12.0)\n",
      "Requirement already satisfied: google-pasta~=0.2 in /home/jakob/Dokumente/Uni/privacyML/env/lib/python3.9/site-packages (from tensorflow->adversarial-robustness-toolbox[pytorch,tensorflow]==1.6.1->privacy-evaluator==0.1) (0.2.0)\n",
      "Requirement already satisfied: gast==0.4.0 in /home/jakob/Dokumente/Uni/privacyML/env/lib/python3.9/site-packages (from tensorflow->adversarial-robustness-toolbox[pytorch,tensorflow]==1.6.1->privacy-evaluator==0.1) (0.4.0)\n",
      "Requirement already satisfied: tensorflow-estimator<2.6.0,>=2.5.0rc0 in /home/jakob/Dokumente/Uni/privacyML/env/lib/python3.9/site-packages (from tensorflow->adversarial-robustness-toolbox[pytorch,tensorflow]==1.6.1->privacy-evaluator==0.1) (2.5.0)\n",
      "Requirement already satisfied: astunparse~=1.6.3 in /home/jakob/Dokumente/Uni/privacyML/env/lib/python3.9/site-packages (from tensorflow->adversarial-robustness-toolbox[pytorch,tensorflow]==1.6.1->privacy-evaluator==0.1) (1.6.3)\n",
      "Requirement already satisfied: termcolor~=1.1.0 in /home/jakob/Dokumente/Uni/privacyML/env/lib/python3.9/site-packages (from tensorflow->adversarial-robustness-toolbox[pytorch,tensorflow]==1.6.1->privacy-evaluator==0.1) (1.1.0)\n",
      "Requirement already satisfied: flatbuffers~=1.12.0 in /home/jakob/Dokumente/Uni/privacyML/env/lib/python3.9/site-packages (from tensorflow->adversarial-robustness-toolbox[pytorch,tensorflow]==1.6.1->privacy-evaluator==0.1) (1.12)\n"
     ]
    },
    {
     "name": "stdout",
     "output_type": "stream",
     "text": [
      "Requirement already satisfied: wrapt~=1.12.1 in /home/jakob/Dokumente/Uni/privacyML/env/lib/python3.9/site-packages (from tensorflow->adversarial-robustness-toolbox[pytorch,tensorflow]==1.6.1->privacy-evaluator==0.1) (1.12.1)\n",
      "Requirement already satisfied: protobuf>=3.9.2 in /home/jakob/Dokumente/Uni/privacyML/env/lib/python3.9/site-packages (from tensorflow->adversarial-robustness-toolbox[pytorch,tensorflow]==1.6.1->privacy-evaluator==0.1) (3.17.1)\n",
      "Requirement already satisfied: grpcio~=1.34.0 in /home/jakob/Dokumente/Uni/privacyML/env/lib/python3.9/site-packages (from tensorflow->adversarial-robustness-toolbox[pytorch,tensorflow]==1.6.1->privacy-evaluator==0.1) (1.34.1)\n",
      "Requirement already satisfied: keras-preprocessing~=1.1.2 in /home/jakob/Dokumente/Uni/privacyML/env/lib/python3.9/site-packages (from tensorflow->adversarial-robustness-toolbox[pytorch,tensorflow]==1.6.1->privacy-evaluator==0.1) (1.1.2)\n",
      "Requirement already satisfied: opt-einsum~=3.3.0 in /home/jakob/Dokumente/Uni/privacyML/env/lib/python3.9/site-packages (from tensorflow->adversarial-robustness-toolbox[pytorch,tensorflow]==1.6.1->privacy-evaluator==0.1) (3.3.0)\n",
      "Requirement already satisfied: keras-nightly~=2.5.0.dev in /home/jakob/Dokumente/Uni/privacyML/env/lib/python3.9/site-packages (from tensorflow->adversarial-robustness-toolbox[pytorch,tensorflow]==1.6.1->privacy-evaluator==0.1) (2.5.0.dev2021032900)\n",
      "Requirement already satisfied: google-auth-oauthlib<0.5,>=0.4.1 in /home/jakob/Dokumente/Uni/privacyML/env/lib/python3.9/site-packages (from tensorboard~=2.5->tensorflow->adversarial-robustness-toolbox[pytorch,tensorflow]==1.6.1->privacy-evaluator==0.1) (0.4.4)\n",
      "Requirement already satisfied: markdown>=2.6.8 in /home/jakob/Dokumente/Uni/privacyML/env/lib/python3.9/site-packages (from tensorboard~=2.5->tensorflow->adversarial-robustness-toolbox[pytorch,tensorflow]==1.6.1->privacy-evaluator==0.1) (3.3.4)\n",
      "Requirement already satisfied: requests<3,>=2.21.0 in /home/jakob/Dokumente/Uni/privacyML/env/lib/python3.9/site-packages (from tensorboard~=2.5->tensorflow->adversarial-robustness-toolbox[pytorch,tensorflow]==1.6.1->privacy-evaluator==0.1) (2.25.1)\n",
      "Requirement already satisfied: tensorboard-plugin-wit>=1.6.0 in /home/jakob/Dokumente/Uni/privacyML/env/lib/python3.9/site-packages (from tensorboard~=2.5->tensorflow->adversarial-robustness-toolbox[pytorch,tensorflow]==1.6.1->privacy-evaluator==0.1) (1.8.0)\n",
      "Requirement already satisfied: google-auth<2,>=1.6.3 in /home/jakob/Dokumente/Uni/privacyML/env/lib/python3.9/site-packages (from tensorboard~=2.5->tensorflow->adversarial-robustness-toolbox[pytorch,tensorflow]==1.6.1->privacy-evaluator==0.1) (1.30.1)\n",
      "Requirement already satisfied: tensorboard-data-server<0.7.0,>=0.6.0 in /home/jakob/Dokumente/Uni/privacyML/env/lib/python3.9/site-packages (from tensorboard~=2.5->tensorflow->adversarial-robustness-toolbox[pytorch,tensorflow]==1.6.1->privacy-evaluator==0.1) (0.6.1)\n",
      "Requirement already satisfied: werkzeug>=0.11.15 in /home/jakob/Dokumente/Uni/privacyML/env/lib/python3.9/site-packages (from tensorboard~=2.5->tensorflow->adversarial-robustness-toolbox[pytorch,tensorflow]==1.6.1->privacy-evaluator==0.1) (2.0.1)\n",
      "Requirement already satisfied: cachetools<5.0,>=2.0.0 in /home/jakob/Dokumente/Uni/privacyML/env/lib/python3.9/site-packages (from google-auth<2,>=1.6.3->tensorboard~=2.5->tensorflow->adversarial-robustness-toolbox[pytorch,tensorflow]==1.6.1->privacy-evaluator==0.1) (4.2.2)\n",
      "Requirement already satisfied: rsa<5,>=3.1.4 in /home/jakob/Dokumente/Uni/privacyML/env/lib/python3.9/site-packages (from google-auth<2,>=1.6.3->tensorboard~=2.5->tensorflow->adversarial-robustness-toolbox[pytorch,tensorflow]==1.6.1->privacy-evaluator==0.1) (4.7.2)\n",
      "Requirement already satisfied: pyasn1-modules>=0.2.1 in /home/jakob/Dokumente/Uni/privacyML/env/lib/python3.9/site-packages (from google-auth<2,>=1.6.3->tensorboard~=2.5->tensorflow->adversarial-robustness-toolbox[pytorch,tensorflow]==1.6.1->privacy-evaluator==0.1) (0.2.8)\n",
      "Requirement already satisfied: requests-oauthlib>=0.7.0 in /home/jakob/Dokumente/Uni/privacyML/env/lib/python3.9/site-packages (from google-auth-oauthlib<0.5,>=0.4.1->tensorboard~=2.5->tensorflow->adversarial-robustness-toolbox[pytorch,tensorflow]==1.6.1->privacy-evaluator==0.1) (1.3.0)\n",
      "Requirement already satisfied: pyasn1<0.5.0,>=0.4.6 in /home/jakob/Dokumente/Uni/privacyML/env/lib/python3.9/site-packages (from pyasn1-modules>=0.2.1->google-auth<2,>=1.6.3->tensorboard~=2.5->tensorflow->adversarial-robustness-toolbox[pytorch,tensorflow]==1.6.1->privacy-evaluator==0.1) (0.4.8)\n",
      "Requirement already satisfied: urllib3<1.27,>=1.21.1 in /home/jakob/Dokumente/Uni/privacyML/env/lib/python3.9/site-packages (from requests<3,>=2.21.0->tensorboard~=2.5->tensorflow->adversarial-robustness-toolbox[pytorch,tensorflow]==1.6.1->privacy-evaluator==0.1) (1.26.5)\n",
      "Requirement already satisfied: certifi>=2017.4.17 in /home/jakob/Dokumente/Uni/privacyML/env/lib/python3.9/site-packages (from requests<3,>=2.21.0->tensorboard~=2.5->tensorflow->adversarial-robustness-toolbox[pytorch,tensorflow]==1.6.1->privacy-evaluator==0.1) (2021.5.30)\n",
      "Requirement already satisfied: idna<3,>=2.5 in /home/jakob/Dokumente/Uni/privacyML/env/lib/python3.9/site-packages (from requests<3,>=2.21.0->tensorboard~=2.5->tensorflow->adversarial-robustness-toolbox[pytorch,tensorflow]==1.6.1->privacy-evaluator==0.1) (2.10)\n",
      "Requirement already satisfied: chardet<5,>=3.0.2 in /home/jakob/Dokumente/Uni/privacyML/env/lib/python3.9/site-packages (from requests<3,>=2.21.0->tensorboard~=2.5->tensorflow->adversarial-robustness-toolbox[pytorch,tensorflow]==1.6.1->privacy-evaluator==0.1) (4.0.0)\n",
      "Requirement already satisfied: oauthlib>=3.0.0 in /home/jakob/Dokumente/Uni/privacyML/env/lib/python3.9/site-packages (from requests-oauthlib>=0.7.0->google-auth-oauthlib<0.5,>=0.4.1->tensorboard~=2.5->tensorflow->adversarial-robustness-toolbox[pytorch,tensorflow]==1.6.1->privacy-evaluator==0.1) (3.1.0)\n",
      "Requirement already satisfied: typeguard>=2.7 in /home/jakob/Dokumente/Uni/privacyML/env/lib/python3.9/site-packages (from tensorflow-addons->adversarial-robustness-toolbox[pytorch,tensorflow]==1.6.1->privacy-evaluator==0.1) (2.12.0)\n",
      "\u001b[33mWARNING: You are using pip version 21.1.1; however, version 21.1.2 is available.\n",
      "You should consider upgrading via the '/home/jakob/Dokumente/Uni/privacyML/env/bin/python3.9 -m pip install --upgrade pip' command.\u001b[0m\n"
     ]
    }
   ],
   "source": [
    "!pip3 install git+https://github.com/privML/privacy-evaluator"
   ]
  },
  {
   "cell_type": "code",
   "execution_count": 4,
   "metadata": {
    "scrolled": true
   },
   "outputs": [
    {
     "ename": "ModuleNotFoundError",
     "evalue": "No module named 'privacy_evaluator.models.tf.dcti.dcti'; 'privacy_evaluator.models.tf.dcti' is not a package",
     "output_type": "error",
     "traceback": [
      "\u001b[0;31m---------------------------------------------------------------------------\u001b[0m",
      "\u001b[0;31mModuleNotFoundError\u001b[0m                       Traceback (most recent call last)",
      "\u001b[0;32m<ipython-input-4-682570f9e702>\u001b[0m in \u001b[0;36m<module>\u001b[0;34m\u001b[0m\n\u001b[1;32m      4\u001b[0m \u001b[0;34m\u001b[0m\u001b[0m\n\u001b[1;32m      5\u001b[0m \u001b[0;32mimport\u001b[0m \u001b[0mprivacy_evaluator\u001b[0m\u001b[0;34m.\u001b[0m\u001b[0mmodels\u001b[0m\u001b[0;34m.\u001b[0m\u001b[0mtorch\u001b[0m\u001b[0;34m.\u001b[0m\u001b[0mdcti\u001b[0m\u001b[0;34m.\u001b[0m\u001b[0mdcti\u001b[0m \u001b[0;32mas\u001b[0m \u001b[0mtorch_dcti\u001b[0m\u001b[0;34m\u001b[0m\u001b[0;34m\u001b[0m\u001b[0m\n\u001b[0;32m----> 6\u001b[0;31m \u001b[0;32mimport\u001b[0m \u001b[0mprivacy_evaluator\u001b[0m\u001b[0;34m.\u001b[0m\u001b[0mmodels\u001b[0m\u001b[0;34m.\u001b[0m\u001b[0mtf\u001b[0m\u001b[0;34m.\u001b[0m\u001b[0mdcti\u001b[0m\u001b[0;34m.\u001b[0m\u001b[0mdcti\u001b[0m \u001b[0;32mas\u001b[0m \u001b[0mtf_dcti\u001b[0m\u001b[0;34m\u001b[0m\u001b[0;34m\u001b[0m\u001b[0m\n\u001b[0m\u001b[1;32m      7\u001b[0m \u001b[0;32mfrom\u001b[0m \u001b[0mprivacy_evaluator\u001b[0m\u001b[0;34m.\u001b[0m\u001b[0mdatasets\u001b[0m\u001b[0;34m.\u001b[0m\u001b[0mcifar10\u001b[0m \u001b[0;32mimport\u001b[0m \u001b[0mCIFAR10\u001b[0m\u001b[0;34m\u001b[0m\u001b[0;34m\u001b[0m\u001b[0m\n\u001b[1;32m      8\u001b[0m \u001b[0;32mfrom\u001b[0m \u001b[0mprivacy_evaluator\u001b[0m\u001b[0;34m.\u001b[0m\u001b[0mclassifiers\u001b[0m\u001b[0;34m.\u001b[0m\u001b[0mclassifier\u001b[0m \u001b[0;32mimport\u001b[0m \u001b[0mClassifier\u001b[0m\u001b[0;34m\u001b[0m\u001b[0;34m\u001b[0m\u001b[0m\n",
      "\u001b[0;31mModuleNotFoundError\u001b[0m: No module named 'privacy_evaluator.models.tf.dcti.dcti'; 'privacy_evaluator.models.tf.dcti' is not a package"
     ]
    }
   ],
   "source": [
    "import tensorflow as tf\n",
    "import torch\n",
    "import numpy as np\n",
    "\n",
    "import privacy_evaluator.models.torch.dcti.dcti as torch_dcti\n",
    "import privacy_evaluator.models.tf.dcti.dcti as tf_dcti \n",
    "from privacy_evaluator.datasets.cifar10 import CIFAR10\n",
    "from privacy_evaluator.classifiers.classifier import Classifier\n",
    "\n",
    "from privacy_evaluator.metrics.privacy_risk_score import * \n",
    "from privacy_evaluator.output.user_output import UserOutput"
   ]
  },
  {
   "cell_type": "markdown",
   "metadata": {},
   "source": [
    "## Compute Membership Privacy Risk Scores"
   ]
  },
  {
   "cell_type": "markdown",
   "metadata": {},
   "source": [
    "### PyTorch\n",
    "\n",
    "We start the evaluation with the PyTorch model. "
   ]
  },
  {
   "cell_type": "markdown",
   "metadata": {},
   "source": [
    "#### Load CIFAR10 Dataset\n",
    "\n",
    "Before we can start computing the membership privacy risk scores, we need to load the dataset. The CIFAR10 dataset needs to be preprocesses in a specific manner to work for the PyTorch model. "
   ]
  },
  {
   "cell_type": "code",
   "execution_count": null,
   "metadata": {},
   "outputs": [],
   "source": [
    "# Load CIFAR10 dataset as numpy array\n",
    "x_train, y_train, x_test, y_test = CIFAR10.numpy(model_type='torch')\n",
    "\n",
    "# Number of classes of CIFAR10 dataset\n",
    "nb_classes=CIFAR10.N_CLASSES, \n",
    "\n",
    "# Input shape of CIFAR10 dataset\n",
    "input_shape=CIFAR10.INPUT_SHAPE"
   ]
  },
  {
   "cell_type": "markdown",
   "metadata": {},
   "source": [
    "#### Prepare target model\n",
    "\n",
    "Now we can set the loss function (in our case it is the `torch.nn.CrossEntropyLoss`) of the model and initialize the model as a generic `Classifier` with the corresponding values."
   ]
  },
  {
   "cell_type": "code",
   "execution_count": null,
   "metadata": {},
   "outputs": [],
   "source": [
    "# Loss function of the Pytrorch model\n",
    "torch_loss = torch.nn.CrossEntropyLoss(reduction=\"none\")\n",
    "\n",
    "# Initalize PyTorch model as a Classifier\n",
    "torch_target_model = Classifier(\n",
    "    torch_dcti.load_dcti(), \n",
    "    loss=torch_loss, \n",
    "    nb_classes=nb_classes, \n",
    "    input_shape=input_shape\n",
    ")"
   ]
  },
  {
   "cell_type": "markdown",
   "metadata": {},
   "source": [
    "#### Compute privacy risk score\n",
    "We can then compute the privacy risk scores. As a result, we get scores for the train and test set separately. "
   ]
  },
  {
   "cell_type": "code",
   "execution_count": null,
   "metadata": {},
   "outputs": [],
   "source": [
    "# Compute membership privacy risk score for the PyTorch model\n",
    "(\n",
    "    train_privacy_risk_score, \n",
    "    test_privacy_risk_score\n",
    ") = compute_privacy_risk_score(\n",
    "    torch_target_model, \n",
    "    x_train[:100], \n",
    "    y_train[:100], \n",
    "    x_test[:100], \n",
    "    y_test[:100]\n",
    ")"
   ]
  },
  {
   "cell_type": "markdown",
   "metadata": {},
   "source": [
    "#### Visualise the result\n",
    "As the last step, we then visualize the results as a histogram. The histogram depicts the k-top most vulnerable points of the dataset per class."
   ]
  },
  {
   "cell_type": "code",
   "execution_count": null,
   "metadata": {},
   "outputs": [],
   "source": [
    "# Create user output and plot histogram for train dataset\n",
    "user_output = UserOutput(\n",
    "    np.argmax(y_train[:100], axis=1),\n",
    "    train_privacy_risk_score, \n",
    "    range(10)\n",
    ")\n",
    "\n",
    "labels, count = user_output.histogram_top_k(50)"
   ]
  },
  {
   "cell_type": "code",
   "execution_count": null,
   "metadata": {},
   "outputs": [],
   "source": [
    "# Create user output and plot histogram for test dataset\n",
    "user_output = UserOutput(\n",
    "    np.argmax(y_test[:100], axis=1),\n",
    "    test_privacy_risk_score, \n",
    "    range(10)\n",
    ")\n",
    "\n",
    "labels, count = user_output.histogram_top_k(50)"
   ]
  },
  {
   "cell_type": "markdown",
   "metadata": {},
   "source": [
    "### TensorFlow\n",
    "\n",
    "Now we do the same with the TensorFlow model."
   ]
  },
  {
   "cell_type": "markdown",
   "metadata": {},
   "source": [
    "#### Load CIFAR10 Dataset\n",
    "\n",
    "Again, we load the correct dataset for the TensorFLow model."
   ]
  },
  {
   "cell_type": "code",
   "execution_count": null,
   "metadata": {},
   "outputs": [],
   "source": [
    "# Load CIFAR10 dataset as numpy array\n",
    "x_train, y_train, x_test, y_test = CIFAR10.numpy(model_type='tf')\n",
    "\n",
    "# Number of classes of CIFAR10 dataset\n",
    "nb_classes=CIFAR10.N_CLASSES, \n",
    "\n",
    "# Input shape of CIFAR10 dataset\n",
    "input_shape=CIFAR10.INPUT_SHAPE"
   ]
  },
  {
   "cell_type": "markdown",
   "metadata": {},
   "source": [
    "#### Prepare target model\n",
    "\n",
    "Then we initialize the target model. This time we use the `tf.keras.losses.CategoricalCrossentropy` as loss function."
   ]
  },
  {
   "cell_type": "code",
   "execution_count": null,
   "metadata": {},
   "outputs": [],
   "source": [
    "# Loss function of the TensorFlow target model\n",
    "tf_loss = tf.keras.losses.CategoricalCrossentropy()\n",
    "\n",
    "# Initalize TensorFlow target model\n",
    "tf_target_model = Classifier(\n",
    "    tf_dcti.load_dcti(), \n",
    "    loss=tf_loss, \n",
    "    nb_classes=nb_classes, \n",
    "    input_shape=input_shape\n",
    ")"
   ]
  },
  {
   "cell_type": "markdown",
   "metadata": {},
   "source": [
    "#### Compute privacy risk score\n",
    "Next, we can then compute the privacy risk scores. As a result, we get scores for the train and test set separately. "
   ]
  },
  {
   "cell_type": "code",
   "execution_count": null,
   "metadata": {},
   "outputs": [],
   "source": [
    "# Compute privacy risk score for the TensorFlow target model\n",
    "(\n",
    "    train_privacy_risk_score, \n",
    "    test_privacy_risk_score\n",
    ") = compute_privacy_risk_score(\n",
    "    tf_target_model, \n",
    "    x_train[:100], \n",
    "    y_train[:100], \n",
    "    x_test[:100], \n",
    "    y_test[:100]\n",
    ")"
   ]
  },
  {
   "cell_type": "markdown",
   "metadata": {},
   "source": [
    "#### Visualise the result\n",
    "Now, we can again visualize the results as a histogram. The histogram depicts the k-top most vulnerable points of the dataset per class."
   ]
  },
  {
   "cell_type": "code",
   "execution_count": null,
   "metadata": {},
   "outputs": [],
   "source": [
    "# Create user output and plot histogram for train dataset\n",
    "user_output = UserOutput(\n",
    "    np.argmax(y_train[:100], axis=1), \n",
    "    train_privacy_risk_score, \n",
    "    range(10)\n",
    ")\n",
    "\n",
    "labels, count = user_output.histogram_top_k(50)"
   ]
  },
  {
   "cell_type": "code",
   "execution_count": null,
   "metadata": {},
   "outputs": [],
   "source": [
    "# Create user output and plot histogram for test dataset\n",
    "user_output = UserOutput(\n",
    "    np.argmax(y_test[:100], axis=1), \n",
    "    test_privacy_risk_score, \n",
    "    range(10)\n",
    ")\n",
    "\n",
    "labels, count = user_output.histogram_top_k(50)"
   ]
  }
 ],
 "metadata": {
  "kernelspec": {
   "display_name": "Python 3",
   "language": "python",
   "name": "python3"
  },
  "language_info": {
   "codemirror_mode": {
    "name": "ipython",
    "version": 3
   },
   "file_extension": ".py",
   "mimetype": "text/x-python",
   "name": "python",
   "nbconvert_exporter": "python",
   "pygments_lexer": "ipython3",
   "version": "3.9.5"
  }
 },
 "nbformat": 4,
 "nbformat_minor": 4
}
