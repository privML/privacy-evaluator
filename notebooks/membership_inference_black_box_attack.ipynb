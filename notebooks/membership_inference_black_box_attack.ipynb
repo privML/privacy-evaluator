{
  "nbformat": 4,
  "nbformat_minor": 5,
  "metadata": {
    "kernelspec": {
      "display_name": "privacy-evaluator-venv",
      "language": "python",
      "name": "privacy-evaluator-venv"
    },
    "language_info": {
      "codemirror_mode": {
        "name": "ipython",
        "version": 3
      },
      "file_extension": ".py",
      "mimetype": "text/x-python",
      "name": "python",
      "nbconvert_exporter": "python",
      "pygments_lexer": "ipython3",
      "version": "3.8.5"
    },
    "colab": {
      "name": "membership_inference_black_box_attack.ipynb",
      "provenance": [],
      "collapsed_sections": []
    },
    "accelerator": "GPU"
  },
  "cells": [
    {
      "cell_type": "markdown",
      "metadata": {
        "id": "Rf_QO8flWx6_"
      },
      "source": [
        "# Membership Inference Black Box Attack Examples"
      ],
      "id": "Rf_QO8flWx6_"
    },
    {
      "cell_type": "markdown",
      "metadata": {
        "id": "WKAYn2M4Wx7F"
      },
      "source": [
        "<table align=\"left\">\n",
        "  <td>\n",
        "    <a target=\"_blank\" href=\"https://colab.research.google.com/github/privML/privacy-evaluator/blob/main/notebooks/membership_inference_black_box_attack.ipynb\"><img src=\"https://raw.githubusercontent.com/privML/privacy-evaluator/team1sprint4/notebooks/images/colab_logo_32px.png\" />Run in Google Colab</a>\n",
        "  </td>\n",
        "  <td>\n",
        "    <a target=\"_blank\" href=\"https://github.com/privML/privacy-evaluator/blob/main/notebooks/membership_inference_black_box_attack.ipynb\"><img src=\"https://raw.githubusercontent.com/privML/privacy-evaluator/main/notebooks/images/GitHub-Mark-32px.png\" />View source on GitHub</a>\n",
        "  </td>\n",
        "</table>\n",
        "\n",
        "\n"
      ],
      "id": "WKAYn2M4Wx7F"
    },
    {
      "cell_type": "markdown",
      "metadata": {
        "id": "Ia0VmlzeWx7H"
      },
      "source": [
        "## Overview\n",
        "\n",
        "In this notebook, we want to show you how to use the `privacy-evaluator` tool to perform the Membership Inference Attacks Black Box Attack on both, a provided PyTorch and a provided Tensorflow model."
      ],
      "id": "Ia0VmlzeWx7H"
    },
    {
      "cell_type": "markdown",
      "metadata": {
        "id": "DH6rB9KSWx7J"
      },
      "source": [
        "## Setup\n",
        "\n",
        "First, you should set the notebook's runtime to use a GPU (e.g. if Colab is used go to ***Runtime > Change runtime type > Hardware accelerator***). Now we can install the `privacy-evaluator` package and import all needed modules."
      ],
      "id": "DH6rB9KSWx7J"
    },
    {
      "cell_type": "code",
      "metadata": {
        "id": "lNU7L3GCWx7M",
        "colab": {
          "base_uri": "https://localhost:8080/"
        },
        "outputId": "94bf7d98-1d11-4009-c18a-0d7664516f53"
      },
      "source": [
        "!pip3 install git+https://github.com/privML/privacy-evaluator@team1sprint4"
      ],
      "id": "lNU7L3GCWx7M",
      "execution_count": 8,
      "outputs": [
        {
          "output_type": "stream",
          "text": [
            "Collecting git+https://github.com/privML/privacy-evaluator@team1sprint4\n",
            "  Cloning https://github.com/privML/privacy-evaluator (to revision team1sprint4) to /tmp/pip-req-build-fn0otpvs\n",
            "  Running command git clone -q https://github.com/privML/privacy-evaluator /tmp/pip-req-build-fn0otpvs\n",
            "  Running command git checkout -b team1sprint4 --track origin/team1sprint4\n",
            "  Switched to a new branch 'team1sprint4'\n",
            "  Branch 'team1sprint4' set up to track remote branch 'team1sprint4' from 'origin'.\n",
            "Requirement already satisfied (use --upgrade to upgrade): privacy-evaluator==0.1 from git+https://github.com/privML/privacy-evaluator@team1sprint4 in /usr/local/lib/python3.7/dist-packages\n",
            "Requirement already satisfied: adversarial-robustness-toolbox[pytorch,tensorflow]==1.6.2 in /usr/local/lib/python3.7/dist-packages (from privacy-evaluator==0.1) (1.6.2)\n",
            "Requirement already satisfied: matplotlib in /usr/local/lib/python3.7/dist-packages (from privacy-evaluator==0.1) (3.2.2)\n",
            "Requirement already satisfied: numpy in /usr/local/lib/python3.7/dist-packages (from privacy-evaluator==0.1) (1.19.5)\n",
            "Requirement already satisfied: pandas in /usr/local/lib/python3.7/dist-packages (from privacy-evaluator==0.1) (1.1.5)\n",
            "Requirement already satisfied: torch in /usr/local/lib/python3.7/dist-packages (from privacy-evaluator==0.1) (1.9.0+cu102)\n",
            "Requirement already satisfied: tensorflow in /usr/local/lib/python3.7/dist-packages (from privacy-evaluator==0.1) (2.5.0)\n",
            "Requirement already satisfied: torchvision in /usr/local/lib/python3.7/dist-packages (from privacy-evaluator==0.1) (0.10.0+cu102)\n",
            "Requirement already satisfied: tqdm in /usr/local/lib/python3.7/dist-packages (from adversarial-robustness-toolbox[pytorch,tensorflow]==1.6.2->privacy-evaluator==0.1) (4.41.1)\n",
            "Requirement already satisfied: setuptools in /usr/local/lib/python3.7/dist-packages (from adversarial-robustness-toolbox[pytorch,tensorflow]==1.6.2->privacy-evaluator==0.1) (57.0.0)\n",
            "Requirement already satisfied: scipy>=1.4.1 in /usr/local/lib/python3.7/dist-packages (from adversarial-robustness-toolbox[pytorch,tensorflow]==1.6.2->privacy-evaluator==0.1) (1.4.1)\n",
            "Requirement already satisfied: numba~=0.53.1 in /usr/local/lib/python3.7/dist-packages (from adversarial-robustness-toolbox[pytorch,tensorflow]==1.6.2->privacy-evaluator==0.1) (0.53.1)\n",
            "Requirement already satisfied: scikit-learn<0.24.3,>=0.22.2 in /usr/local/lib/python3.7/dist-packages (from adversarial-robustness-toolbox[pytorch,tensorflow]==1.6.2->privacy-evaluator==0.1) (0.22.2.post1)\n",
            "Requirement already satisfied: six in /usr/local/lib/python3.7/dist-packages (from adversarial-robustness-toolbox[pytorch,tensorflow]==1.6.2->privacy-evaluator==0.1) (1.15.0)\n",
            "Requirement already satisfied: tensorflow-addons; extra == \"tensorflow\" in /usr/local/lib/python3.7/dist-packages (from adversarial-robustness-toolbox[pytorch,tensorflow]==1.6.2->privacy-evaluator==0.1) (0.13.0)\n",
            "Requirement already satisfied: h5py; extra == \"tensorflow\" in /usr/local/lib/python3.7/dist-packages (from adversarial-robustness-toolbox[pytorch,tensorflow]==1.6.2->privacy-evaluator==0.1) (3.1.0)\n",
            "Requirement already satisfied: python-dateutil>=2.1 in /usr/local/lib/python3.7/dist-packages (from matplotlib->privacy-evaluator==0.1) (2.8.1)\n",
            "Requirement already satisfied: kiwisolver>=1.0.1 in /usr/local/lib/python3.7/dist-packages (from matplotlib->privacy-evaluator==0.1) (1.3.1)\n",
            "Requirement already satisfied: pyparsing!=2.0.4,!=2.1.2,!=2.1.6,>=2.0.1 in /usr/local/lib/python3.7/dist-packages (from matplotlib->privacy-evaluator==0.1) (2.4.7)\n",
            "Requirement already satisfied: cycler>=0.10 in /usr/local/lib/python3.7/dist-packages (from matplotlib->privacy-evaluator==0.1) (0.10.0)\n",
            "Requirement already satisfied: pytz>=2017.2 in /usr/local/lib/python3.7/dist-packages (from pandas->privacy-evaluator==0.1) (2018.9)\n",
            "Requirement already satisfied: typing-extensions in /usr/local/lib/python3.7/dist-packages (from torch->privacy-evaluator==0.1) (3.7.4.3)\n",
            "Requirement already satisfied: tensorflow-estimator<2.6.0,>=2.5.0rc0 in /usr/local/lib/python3.7/dist-packages (from tensorflow->privacy-evaluator==0.1) (2.5.0)\n",
            "Requirement already satisfied: google-pasta~=0.2 in /usr/local/lib/python3.7/dist-packages (from tensorflow->privacy-evaluator==0.1) (0.2.0)\n",
            "Requirement already satisfied: absl-py~=0.10 in /usr/local/lib/python3.7/dist-packages (from tensorflow->privacy-evaluator==0.1) (0.12.0)\n",
            "Requirement already satisfied: protobuf>=3.9.2 in /usr/local/lib/python3.7/dist-packages (from tensorflow->privacy-evaluator==0.1) (3.12.4)\n",
            "Requirement already satisfied: tensorboard~=2.5 in /usr/local/lib/python3.7/dist-packages (from tensorflow->privacy-evaluator==0.1) (2.5.0)\n",
            "Requirement already satisfied: wrapt~=1.12.1 in /usr/local/lib/python3.7/dist-packages (from tensorflow->privacy-evaluator==0.1) (1.12.1)\n",
            "Requirement already satisfied: keras-preprocessing~=1.1.2 in /usr/local/lib/python3.7/dist-packages (from tensorflow->privacy-evaluator==0.1) (1.1.2)\n",
            "Requirement already satisfied: termcolor~=1.1.0 in /usr/local/lib/python3.7/dist-packages (from tensorflow->privacy-evaluator==0.1) (1.1.0)\n",
            "Requirement already satisfied: opt-einsum~=3.3.0 in /usr/local/lib/python3.7/dist-packages (from tensorflow->privacy-evaluator==0.1) (3.3.0)\n",
            "Requirement already satisfied: keras-nightly~=2.5.0.dev in /usr/local/lib/python3.7/dist-packages (from tensorflow->privacy-evaluator==0.1) (2.5.0.dev2021032900)\n",
            "Requirement already satisfied: wheel~=0.35 in /usr/local/lib/python3.7/dist-packages (from tensorflow->privacy-evaluator==0.1) (0.36.2)\n",
            "Requirement already satisfied: grpcio~=1.34.0 in /usr/local/lib/python3.7/dist-packages (from tensorflow->privacy-evaluator==0.1) (1.34.1)\n",
            "Requirement already satisfied: gast==0.4.0 in /usr/local/lib/python3.7/dist-packages (from tensorflow->privacy-evaluator==0.1) (0.4.0)\n",
            "Requirement already satisfied: astunparse~=1.6.3 in /usr/local/lib/python3.7/dist-packages (from tensorflow->privacy-evaluator==0.1) (1.6.3)\n",
            "Requirement already satisfied: flatbuffers~=1.12.0 in /usr/local/lib/python3.7/dist-packages (from tensorflow->privacy-evaluator==0.1) (1.12)\n",
            "Requirement already satisfied: pillow>=5.3.0 in /usr/local/lib/python3.7/dist-packages (from torchvision->privacy-evaluator==0.1) (7.1.2)\n",
            "Requirement already satisfied: llvmlite<0.37,>=0.36.0rc1 in /usr/local/lib/python3.7/dist-packages (from numba~=0.53.1->adversarial-robustness-toolbox[pytorch,tensorflow]==1.6.2->privacy-evaluator==0.1) (0.36.0)\n",
            "Requirement already satisfied: joblib>=0.11 in /usr/local/lib/python3.7/dist-packages (from scikit-learn<0.24.3,>=0.22.2->adversarial-robustness-toolbox[pytorch,tensorflow]==1.6.2->privacy-evaluator==0.1) (1.0.1)\n",
            "Requirement already satisfied: typeguard>=2.7 in /usr/local/lib/python3.7/dist-packages (from tensorflow-addons; extra == \"tensorflow\"->adversarial-robustness-toolbox[pytorch,tensorflow]==1.6.2->privacy-evaluator==0.1) (2.7.1)\n",
            "Requirement already satisfied: cached-property; python_version < \"3.8\" in /usr/local/lib/python3.7/dist-packages (from h5py; extra == \"tensorflow\"->adversarial-robustness-toolbox[pytorch,tensorflow]==1.6.2->privacy-evaluator==0.1) (1.5.2)\n",
            "Requirement already satisfied: tensorboard-plugin-wit>=1.6.0 in /usr/local/lib/python3.7/dist-packages (from tensorboard~=2.5->tensorflow->privacy-evaluator==0.1) (1.8.0)\n",
            "Requirement already satisfied: google-auth-oauthlib<0.5,>=0.4.1 in /usr/local/lib/python3.7/dist-packages (from tensorboard~=2.5->tensorflow->privacy-evaluator==0.1) (0.4.4)\n",
            "Requirement already satisfied: tensorboard-data-server<0.7.0,>=0.6.0 in /usr/local/lib/python3.7/dist-packages (from tensorboard~=2.5->tensorflow->privacy-evaluator==0.1) (0.6.1)\n",
            "Requirement already satisfied: requests<3,>=2.21.0 in /usr/local/lib/python3.7/dist-packages (from tensorboard~=2.5->tensorflow->privacy-evaluator==0.1) (2.23.0)\n",
            "Requirement already satisfied: werkzeug>=0.11.15 in /usr/local/lib/python3.7/dist-packages (from tensorboard~=2.5->tensorflow->privacy-evaluator==0.1) (1.0.1)\n",
            "Requirement already satisfied: google-auth<2,>=1.6.3 in /usr/local/lib/python3.7/dist-packages (from tensorboard~=2.5->tensorflow->privacy-evaluator==0.1) (1.31.0)\n",
            "Requirement already satisfied: markdown>=2.6.8 in /usr/local/lib/python3.7/dist-packages (from tensorboard~=2.5->tensorflow->privacy-evaluator==0.1) (3.3.4)\n",
            "Requirement already satisfied: requests-oauthlib>=0.7.0 in /usr/local/lib/python3.7/dist-packages (from google-auth-oauthlib<0.5,>=0.4.1->tensorboard~=2.5->tensorflow->privacy-evaluator==0.1) (1.3.0)\n",
            "Requirement already satisfied: urllib3!=1.25.0,!=1.25.1,<1.26,>=1.21.1 in /usr/local/lib/python3.7/dist-packages (from requests<3,>=2.21.0->tensorboard~=2.5->tensorflow->privacy-evaluator==0.1) (1.24.3)\n",
            "Requirement already satisfied: chardet<4,>=3.0.2 in /usr/local/lib/python3.7/dist-packages (from requests<3,>=2.21.0->tensorboard~=2.5->tensorflow->privacy-evaluator==0.1) (3.0.4)\n",
            "Requirement already satisfied: certifi>=2017.4.17 in /usr/local/lib/python3.7/dist-packages (from requests<3,>=2.21.0->tensorboard~=2.5->tensorflow->privacy-evaluator==0.1) (2021.5.30)\n",
            "Requirement already satisfied: idna<3,>=2.5 in /usr/local/lib/python3.7/dist-packages (from requests<3,>=2.21.0->tensorboard~=2.5->tensorflow->privacy-evaluator==0.1) (2.10)\n",
            "Requirement already satisfied: rsa<5,>=3.1.4; python_version >= \"3.6\" in /usr/local/lib/python3.7/dist-packages (from google-auth<2,>=1.6.3->tensorboard~=2.5->tensorflow->privacy-evaluator==0.1) (4.7.2)\n",
            "Requirement already satisfied: cachetools<5.0,>=2.0.0 in /usr/local/lib/python3.7/dist-packages (from google-auth<2,>=1.6.3->tensorboard~=2.5->tensorflow->privacy-evaluator==0.1) (4.2.2)\n",
            "Requirement already satisfied: pyasn1-modules>=0.2.1 in /usr/local/lib/python3.7/dist-packages (from google-auth<2,>=1.6.3->tensorboard~=2.5->tensorflow->privacy-evaluator==0.1) (0.2.8)\n",
            "Requirement already satisfied: importlib-metadata; python_version < \"3.8\" in /usr/local/lib/python3.7/dist-packages (from markdown>=2.6.8->tensorboard~=2.5->tensorflow->privacy-evaluator==0.1) (4.5.0)\n",
            "Requirement already satisfied: oauthlib>=3.0.0 in /usr/local/lib/python3.7/dist-packages (from requests-oauthlib>=0.7.0->google-auth-oauthlib<0.5,>=0.4.1->tensorboard~=2.5->tensorflow->privacy-evaluator==0.1) (3.1.1)\n",
            "Requirement already satisfied: pyasn1>=0.1.3 in /usr/local/lib/python3.7/dist-packages (from rsa<5,>=3.1.4; python_version >= \"3.6\"->google-auth<2,>=1.6.3->tensorboard~=2.5->tensorflow->privacy-evaluator==0.1) (0.4.8)\n",
            "Requirement already satisfied: zipp>=0.5 in /usr/local/lib/python3.7/dist-packages (from importlib-metadata; python_version < \"3.8\"->markdown>=2.6.8->tensorboard~=2.5->tensorflow->privacy-evaluator==0.1) (3.4.1)\n",
            "Building wheels for collected packages: privacy-evaluator\n",
            "  Building wheel for privacy-evaluator (setup.py) ... \u001b[?25l\u001b[?25hdone\n",
            "  Created wheel for privacy-evaluator: filename=privacy_evaluator-0.1-cp37-none-any.whl size=112447660 sha256=25b02e88d677acb2ab292a86f2e31b7432e95f19832167a04d2f82c39a342ad2\n",
            "  Stored in directory: /tmp/pip-ephem-wheel-cache-vwrsvw9w/wheels/69/13/a0/092a33dd139764bcce399f23cf92c195049da93631adb751c7\n",
            "Successfully built privacy-evaluator\n"
          ],
          "name": "stdout"
        }
      ]
    },
    {
      "cell_type": "code",
      "metadata": {
        "id": "9d7ab468"
      },
      "source": [
        "import tensorflow as tf\n",
        "import torch\n",
        "import numpy as np\n",
        "\n",
        "import tensorflow.python.ops.numpy_ops.np_config as np_config\n",
        "np_config.enable_numpy_behavior()\n",
        "\n",
        "import privacy_evaluator.models.torch.dcti.dcti as torch_dcti\n",
        "import privacy_evaluator.models.tf.dcti.dcti as tf_dcti \n",
        "\n",
        "from privacy_evaluator.datasets.tf.cifar10 import TFCIFAR10\n",
        "from privacy_evaluator.datasets.torch.cifar10 import TorchCIFAR10\n",
        "\n",
        "from privacy_evaluator.classifiers.classifier import Classifier\n",
        "\n",
        "from privacy_evaluator.attacks.membership_inference.black_box import MembershipInferenceBlackBoxAttack\n",
        "from privacy_evaluator.attacks.membership_inference import MembershipInferenceAttackAnalysis\n",
        "\n",
        "from privacy_evaluator.metrics.privacy_risk_score import * \n",
        "from privacy_evaluator.output.user_output_privacy_score import UserOutputPrivacyScore\n",
        "\n",
        "from privacy_evaluator.attacks.membership_inference import MembershipInferenceAttackAnalysis\n",
        "\n",
        "from privacy_evaluator.attacks.membership_inference.data_structures.attack_input_data import AttackInputData\n",
        "from privacy_evaluator.attacks.membership_inference.data_structures.slicing import Slicing"
      ],
      "id": "9d7ab468",
      "execution_count": 9,
      "outputs": []
    },
    {
      "cell_type": "markdown",
      "metadata": {
        "id": "mUH4YQ4tWx7Q"
      },
      "source": [
        "## Conduct Membership Inference Black Box Attacks\n",
        "\n",
        "Now we can start with conducting the Membership Inference Black Box Attacks. Therefore, we prepared two instances of the attack: one attacking a PyTorch model and attacking a TensorFlow model. For both attacks, we implemented a simple neural network trained on the CIFAR-10 dataset. For details about the provided network have a look at the following paper: https://www.scitepress.org/Papers/2018/67520/67520.pdf)."
      ],
      "id": "mUH4YQ4tWx7Q"
    },
    {
      "cell_type": "markdown",
      "metadata": {
        "id": "b2da0876"
      },
      "source": [
        "### PyTorch\n",
        "\n",
        "We start the evaluation of the PyTorch version of the model."
      ],
      "id": "b2da0876"
    },
    {
      "cell_type": "markdown",
      "metadata": {
        "id": "7aQIN6UMWx7W"
      },
      "source": [
        "#### Prepare target model\n",
        "\n",
        "Now, we need to initialize our pre-trained Lightweight Deep Convolutional Neural Network (short DCTI) as a generic `Classifier`. Therefore we need to specify the loss function used to train the model (in our case the `torch.nn.CrossEntropyLoss`), the number of classes and the input shape of our CIFAR-10 dataset."
      ],
      "id": "7aQIN6UMWx7W"
    },
    {
      "cell_type": "code",
      "metadata": {
        "id": "fz4UuSxMWx7Y"
      },
      "source": [
        "# Initalize PyTorch model as a Classifier\n",
        "target_model = Classifier(\n",
        "    torch_dcti.load_dcti(), # PyTorch DCTI \n",
        "    loss=torch.nn.CrossEntropyLoss(reduction=\"none\"), # Loss function of the PyTorch model\n",
        "    nb_classes=TorchCIFAR10.N_CLASSES, # Number of classes of the CIFAR10 dataset\n",
        "    input_shape=TorchCIFAR10.INPUT_SHAPE # Input shape of the CIFAR10 dataset\n",
        ")"
      ],
      "id": "fz4UuSxMWx7Y",
      "execution_count": 10,
      "outputs": []
    },
    {
      "cell_type": "markdown",
      "metadata": {
        "id": "sv_fGg8jWx7S"
      },
      "source": [
        "#### Load CIFAR10 Dataset\n",
        "\n",
        "Before we can start to conduct the membership inference attacks, we need to load the dataset. The CIFAR10 dataset needs to be preprocessed in a specific manner to work for the PyTorch model."
      ],
      "id": "sv_fGg8jWx7S"
    },
    {
      "cell_type": "code",
      "metadata": {
        "id": "dcae11d8",
        "colab": {
          "base_uri": "https://localhost:8080/"
        },
        "outputId": "7e9990f7-4fc7-4d55-9535-b5f6f170ced2"
      },
      "source": [
        "# Load CIFAR10 dataset as numpy array\n",
        "x_train, y_train, x_test, y_test = TorchCIFAR10.numpy()"
      ],
      "id": "dcae11d8",
      "execution_count": 11,
      "outputs": [
        {
          "output_type": "stream",
          "text": [
            "Files already downloaded and verified\n",
            "Files already downloaded and verified\n"
          ],
          "name": "stdout"
        },
        {
          "output_type": "stream",
          "text": [
            "/usr/local/lib/python3.7/dist-packages/torch/utils/data/dataloader.py:481: UserWarning: This DataLoader will create 4 worker processes in total. Our suggested max number of worker in current system is 2, which is smaller than what this DataLoader is going to create. Please be aware that excessive worker creation might get DataLoader running slow or even freeze, lower the worker number to avoid potential slowness/freeze if necessary.\n",
            "  cpuset_checked))\n"
          ],
          "name": "stderr"
        }
      ]
    },
    {
      "cell_type": "markdown",
      "metadata": {
        "id": "c7761c0c"
      },
      "source": [
        "#### Perform Membership Inference Black Box Attack\n",
        "\n",
        "We want to attack our target model with the Membership Inference  Black Box Attack. Thus, we initialize the attack with the target model and a dataset used to fit the attack model. The dataset consists of two different sets. The first contains the data (`x_train`) and its corresponding labels (`y_train`) which were used to train the target model. The second contains the data (`x_test`) and its corresponding labels (`y_test`) which were not part of the training process of the target model. After the initialization, we first need to fit the attack model before we can attack the target model. To attack certain data points, we simply input them into the `attack()` method. The result of the attack is an array holding the inferred membership status, 1 indicates a member and 0 indicates non-member."
      ],
      "id": "c7761c0c"
    },
    {
      "cell_type": "code",
      "metadata": {
        "id": "cd9e4799",
        "colab": {
          "base_uri": "https://localhost:8080/"
        },
        "outputId": "22a5cde1-d7c0-48bc-dd3a-8732cb881e72"
      },
      "source": [
        "attack = MembershipInferenceBlackBoxAttack(\n",
        "    target_model, \n",
        "    x_train[:100], \n",
        "    y_train[:100], \n",
        "    x_test[:100], \n",
        "    y_test[:100]\n",
        ")\n",
        "\n",
        "attack.fit()\n",
        "attack.attack(x_train[:100], y_train[:100])"
      ],
      "id": "cd9e4799",
      "execution_count": 12,
      "outputs": [
        {
          "output_type": "execute_result",
          "data": {
            "text/plain": [
              "array([1, 1, 1, 1, 0, 0, 1, 0, 1, 0, 1, 1, 1, 1, 0, 0, 0, 0, 0, 1, 0, 0,\n",
              "       0, 0, 1, 1, 0, 1, 1, 1, 1, 1, 1, 1, 1, 1, 1, 1, 1, 1, 1, 0, 1, 1,\n",
              "       1, 1, 1, 1, 1, 1, 1, 1, 1, 1, 1, 0, 1, 1, 0, 0, 1, 1, 1, 0, 1, 1,\n",
              "       0, 1, 1, 1, 0, 1, 0, 1, 1, 1, 0, 1, 1, 1, 1, 1, 1, 0, 1, 1, 1, 1,\n",
              "       1, 0, 1, 1, 1, 1, 1, 1, 1, 0, 1, 1])"
            ]
          },
          "metadata": {
            "tags": []
          },
          "execution_count": 12
        }
      ]
    },
    {
      "cell_type": "markdown",
      "metadata": {
        "id": "5770d67d"
      },
      "source": [
        "#### Get machine-readable attack statistics\n",
        "\n",
        "Besides the inferred membership status, we can create more general statistics. To do so, we generate an attack output by providing again the data points which should be attacked and the correct inferred membership labels (in this case all attacked data points are part of the training dataset and thus for all of them a membership should be predicted by the attack model). As result, we get the accuracy, the train-to-test accuracy gap and the train-to-test ratio for the target model and the accuracy for the attack model."
      ],
      "id": "5770d67d"
    },
    {
      "cell_type": "code",
      "metadata": {
        "id": "8eaa9ed6",
        "colab": {
          "base_uri": "https://localhost:8080/",
          "height": 36
        },
        "outputId": "ac69fa2a-3c0c-46db-b9e7-d2ac084f682b"
      },
      "source": [
        "output = attack.attack_output(\n",
        "    x_train[:100], \n",
        "    y_train[:100], \n",
        "    np.ones((100,))\n",
        ")\n",
        "\n",
        "output.to_json()"
      ],
      "id": "8eaa9ed6",
      "execution_count": 13,
      "outputs": [
        {
          "output_type": "execute_result",
          "data": {
            "application/vnd.google.colaboratory.intrinsic+json": {
              "type": "string"
            },
            "text/plain": [
              "'{\"target_model_train_accuracy\": 0.96, \"target_model_test_accuracy\": 0.87, \"target_model_train_to_test_accuracy_gap\": 0.08999999999999997, \"target_model_train_to_test_accuracy_ratio\": 1.103448275862069, \"attack_model_accuracy\": 0.74}'"
            ]
          },
          "metadata": {
            "tags": []
          },
          "execution_count": 13
        }
      ]
    },
    {
      "cell_type": "markdown",
      "metadata": {
        "id": "dRPu6e955n_B"
      },
      "source": [
        "#### Explanation of the outcome:\n",
        "\n",
        "Attack Model Accuracy:\n",
        "The attack model accuracy specifies how well the membership attack model performs in predicting if a given data point was used for training the target model. Since we have a two-class classification problem that the attack model solves (member or non-member), the lowest possible accuracy is 50% (random guessing for each sample). The best accuracy is at 100% if the model predicts every data point is sees right as member or non-member.\n",
        "\n",
        "Train-Test-Gap (difference):\n",
        "If your model has a train-test-gap larger than 5%, this could be a sign that your model overfits. Overfitting can be beneficial for successful membership inference attacks [1]. Therefore, you might want to reduce it by introducing regularization methods in your training, or using specific privacy methods [2,3], such as Differential Privacy [4].\n",
        "\n",
        "(For References, please see last box)"
      ],
      "id": "dRPu6e955n_B"
    },
    {
      "cell_type": "markdown",
      "metadata": {
        "id": "fpycszf2JBfw"
      },
      "source": [
        "#### Perpare attack analysis\n",
        "\n",
        "Next, we prepare our attack analysis. To initialize our attack analysis we define the Membership Inference Attack method we want to perform (in this case we use the `MembershipInferenceBlackBoxAttack`) and the Attack Input Data. The Attack Input Data consists of two different sets. The first contains the data (`x_train`) and its corresponding labels (`y_train`) which were used to train the target model. The second contains the data (`x_test`) and its corresponding labels (`y_test`) which were not part of the training process of the target model."
      ],
      "id": "fpycszf2JBfw"
    },
    {
      "cell_type": "code",
      "metadata": {
        "id": "h7CAm0_aJD05"
      },
      "source": [
        "attack_analysis = MembershipInferenceAttackAnalysis(\n",
        "    MembershipInferenceBlackBoxAttack, \n",
        "    AttackInputData(\n",
        "        x_train[:100], \n",
        "        y_train[:100], \n",
        "        x_test[:100], \n",
        "        y_test[:100]\n",
        "    )\n",
        ")"
      ],
      "id": "h7CAm0_aJD05",
      "execution_count": 14,
      "outputs": []
    },
    {
      "cell_type": "markdown",
      "metadata": {
        "id": "H52Z0hJyJHj6"
      },
      "source": [
        "#### Define the slicing\n",
        "\n",
        "Now we can define the slicing for our analysis. The slicing defines how the data will be sliced. Each slice will then be analysed separately. "
      ],
      "id": "H52Z0hJyJHj6"
    },
    {
      "cell_type": "code",
      "metadata": {
        "id": "Gk9F4EiCJJGq"
      },
      "source": [
        "slicing = Slicing(\n",
        "    entire_dataset=True, \n",
        "    by_class=True, \n",
        "    by_classification_correctness=True\n",
        ")"
      ],
      "id": "Gk9F4EiCJJGq",
      "execution_count": 15,
      "outputs": []
    },
    {
      "cell_type": "markdown",
      "metadata": {
        "id": "yUEf6yXOJLUm"
      },
      "source": [
        "#### Perform Membership Inference Attack Analysis\n",
        "\n",
        "Finally, we can perform our Membership Inference Attack Analysis. Therefore, we input the target model, the data that should be analysed, the membership labels (i.e. the labels which correctly describe if a data point is a member of the training dataset or not) and the splicing specification into the `analyse()` method. As a result, we get for each slice the indices of the corresponding data points, a human-readable description of the slice and the advantage score of the Membership Inference Attack (for more details about the advantage score, please read the following paper: https://arxiv.org/abs/1709.01604)."
      ],
      "id": "yUEf6yXOJLUm"
    },
    {
      "cell_type": "code",
      "metadata": {
        "colab": {
          "base_uri": "https://localhost:8080/"
        },
        "id": "AUTnIKUEJM8R",
        "outputId": "967b0d01-c6df-41ac-c688-fb39d0b421fc"
      },
      "source": [
        "result = attack_analysis.analyse(\n",
        "    target_model, \n",
        "    np.concatenate((x_train[:100], x_test[:100])), \n",
        "    np.concatenate((y_train[:100], y_test[:100])), \n",
        "    np.concatenate((np.ones(len(x_train[:100])), np.zeros(len(x_test[:100])))), \n",
        "    slicing\n",
        ")\n",
        "\n",
        "print(\"\\n\".join((str(r) for r in result)))"
      ],
      "id": "AUTnIKUEJM8R",
      "execution_count": 16,
      "outputs": [
        {
          "output_type": "stream",
          "text": [
            "MembershipInferenceAttackAnalysisSliceResult(\n",
            "  Slice(\n",
            "    indices: [  0   1 ... 198 199]\n",
            "    desc: Entire dataset\n",
            "  )\n",
            "  advantage: 0.0700\n",
            ")\n",
            "MembershipInferenceAttackAnalysisSliceResult(\n",
            "  Slice(\n",
            "    indices: [  0   1 ... 198 199]\n",
            "    desc: Correctly classified\n",
            "  )\n",
            "  advantage: 0.0948\n",
            ")\n",
            "MembershipInferenceAttackAnalysisSliceResult(\n",
            "  Slice(\n",
            "    indices: [ 21  39 ... 186 187]\n",
            "    desc: Incorrectly classified\n",
            "  )\n",
            "  advantage: 0.1923\n",
            ")\n",
            "MembershipInferenceAttackAnalysisSliceResult(\n",
            "  Slice(\n",
            "    indices: [ 29  30 ... 197 198]\n",
            "    desc: Class=0\n",
            "  )\n",
            "  advantage: 0.0000\n",
            ")\n",
            "MembershipInferenceAttackAnalysisSliceResult(\n",
            "  Slice(\n",
            "    indices: [  4   5 ... 181 182]\n",
            "    desc: Class=1\n",
            "  )\n",
            "  advantage: 0.0000\n",
            ")\n",
            "MembershipInferenceAttackAnalysisSliceResult(\n",
            "  Slice(\n",
            "    indices: [  6  13 ... 184 186]\n",
            "    desc: Class=2\n",
            "  )\n",
            "  advantage: 0.1250\n",
            ")\n",
            "MembershipInferenceAttackAnalysisSliceResult(\n",
            "  Slice(\n",
            "    indices: [  9  17 ... 178 191]\n",
            "    desc: Class=3\n",
            "  )\n",
            "  advantage: 0.2462\n",
            ")\n",
            "MembershipInferenceAttackAnalysisSliceResult(\n",
            "  Slice(\n",
            "    indices: [  3  10 ... 158 194]\n",
            "    desc: Class=4\n",
            "  )\n",
            "  advantage: 0.0909\n",
            ")\n",
            "MembershipInferenceAttackAnalysisSliceResult(\n",
            "  Slice(\n",
            "    indices: [ 27  40 ... 142 185]\n",
            "    desc: Class=5\n",
            "  )\n",
            "  advantage: 0.1250\n",
            ")\n",
            "MembershipInferenceAttackAnalysisSliceResult(\n",
            "  Slice(\n",
            "    indices: [  0  19 ... 195 196]\n",
            "    desc: Class=6\n",
            "  )\n",
            "  advantage: 0.0000\n",
            ")\n",
            "MembershipInferenceAttackAnalysisSliceResult(\n",
            "  Slice(\n",
            "    indices: [  7  11 ... 187 199]\n",
            "    desc: Class=7\n",
            "  )\n",
            "  advantage: 0.0909\n",
            ")\n",
            "MembershipInferenceAttackAnalysisSliceResult(\n",
            "  Slice(\n",
            "    indices: [  8  62 ... 188 192]\n",
            "    desc: Class=8\n",
            "  )\n",
            "  advantage: 0.0000\n",
            ")\n",
            "MembershipInferenceAttackAnalysisSliceResult(\n",
            "  Slice(\n",
            "    indices: [  1   2 ... 176 189]\n",
            "    desc: Class=9\n",
            "  )\n",
            "  advantage: 0.0000\n",
            ")\n"
          ],
          "name": "stdout"
        }
      ]
    },
    {
      "cell_type": "markdown",
      "metadata": {
        "id": "K5yIBZEGJQxi"
      },
      "source": [
        "#### Explanation of the outcome:\n",
        "##### Attacker Advantage:\n",
        "The attacker advantageis a score that relies on comparing the model output on member and non-member data points. The model outputs are probability values over all classes, and they are often different on member and non-member data points. Usually, the model is more confident on member data points, because it has seen them during training. When trying to find a threshold value to tell apart member and non-member samples by their different model outputs, the attacker has interest in finding the best ratio between false positives “fpr” (non-members that are classified as members) and true positives “tpr” (members that are correctly identifies as members). \n",
        "\n",
        "This best ratio is calculated as the max(tpr-fpr) over all threshold values and represents the attacker advantage. \n",
        "\n",
        "##### Slicing: Incorrectly classified:\n",
        "It is normal that the attacker is more successful to deduce membership on incorrectly classified samples than on correctly classified ones. This results from the fact, that model predictions are often better on training than on test data points, whereby your attack model might learn to predict incorrectly classified samples as non-members. If your model overfits the training data, this assumption might hold true often enough to make the attack seem more successful on this slice. If you wish to reduce that, pay attention to reducing your model’s overfitting.\n",
        "\n",
        "##### Slicing: Specific classes more vulnerable: \n",
        "It seems that the membership inference attack is more successful on your class X than on the other classes. Research has shown that the class distribution (and also the distribution of data points within one class) are factors that influence the vulnerability of a class for membership inference attacks [5].\n",
        "\n",
        "Also, small classes (belonging to minority groups) can be more prone to membership inference attacks [6]. One reason for this could be, that there is less data for that class, and therefore, the model overfits within this class. It might make sense to look into the vulnerable classes of your model again, and maybe add more data to them, use private synthetic data, or introduce privacy methods like Differential Privacy [6]. Attention, the use of Differential Privacy could have a negative influence on the performance of your model for the minority classes.\n",
        "\n",
        "\n",
        "(For References, please see last box)"
      ],
      "id": "K5yIBZEGJQxi"
    },
    {
      "cell_type": "markdown",
      "metadata": {
        "id": "QvL2cVGTJSuO"
      },
      "source": [
        "#### Compute privacy risk score\n",
        "\n",
        "As a next step, we want to compute the privacy risk scores. To do so, we input the target model and the data points which should be evaluated to the respective function. The given data points are separated into a train and tests set. The train set contains of the data (`x_train`) and its corresponding labels (`y_train`) which were used to train the target model. The test set contains the data (`x_test`) and its corresponding labels (`y_test`) which were not part of the training process of the target model. As a result, we get privacy risk scores for each data point, separated into train and test scores. The resulting values indicate the probability of a data point being a member or not."
      ],
      "id": "QvL2cVGTJSuO"
    },
    {
      "cell_type": "code",
      "metadata": {
        "id": "bwt-wkV_JXm3"
      },
      "source": [
        "# Compute membership privacy risk score for the PyTorch model\n",
        "(\n",
        "    train_privacy_risk_score, \n",
        "    test_privacy_risk_score\n",
        ") = compute_privacy_risk_score(\n",
        "    target_model, \n",
        "    x_train[:100], \n",
        "    y_train[:100], \n",
        "    x_test[:100], \n",
        "    y_test[:100]\n",
        ")"
      ],
      "id": "bwt-wkV_JXm3",
      "execution_count": 17,
      "outputs": []
    },
    {
      "cell_type": "markdown",
      "metadata": {
        "id": "FDl3RrF8JZLk"
      },
      "source": [
        "#### Get human-readable privacy risk score statistics\n",
        "\n",
        "Besides the privacy risk scores, we can create more human-readable statistics. Therefore we generate an output by providing the privacy risk scores and the true labels of the data points for which we computed the privacy risk scores. This output can then be visualized in two separate ways."
      ],
      "id": "FDl3RrF8JZLk"
    },
    {
      "cell_type": "code",
      "metadata": {
        "id": "Hmy8hyC4JTaw"
      },
      "source": [
        "# Create user output and plot histogram for train dataset\n",
        "output = UserOutputPrivacyScore(\n",
        "    np.argmax(y_train[:100], axis=1),\n",
        "    train_privacy_risk_score, \n",
        ")"
      ],
      "id": "Hmy8hyC4JTaw",
      "execution_count": 18,
      "outputs": []
    },
    {
      "cell_type": "markdown",
      "metadata": {
        "id": "zgj7tBndJdZE"
      },
      "source": [
        "The first way to visualise the privacy risk scores is as a histogram. The histogram shows the distribution of the k-top data points with the highest privacy risk scores per class."
      ],
      "id": "zgj7tBndJdZE"
    },
    {
      "cell_type": "code",
      "metadata": {
        "colab": {
          "base_uri": "https://localhost:8080/",
          "height": 281
        },
        "id": "7j0g0DcPJe5-",
        "outputId": "3939b522-90c8-4ebb-e7f1-42f730f4247b"
      },
      "source": [
        "# Plot absolut values \n",
        "labels, count = output.histogram_top_k(range(10), 50)"
      ],
      "id": "7j0g0DcPJe5-",
      "execution_count": 19,
      "outputs": [
        {
          "output_type": "display_data",
          "data": {
            "image/png": "[encoded data removed]",
            "text/plain": [
              "<Figure size 432x288 with 1 Axes>"
            ]
          },
          "metadata": {
            "tags": [],
            "needs_background": "light"
          }
        }
      ]
    },
    {
      "cell_type": "markdown",
      "metadata": {
        "id": "AGDmsiYkJgSW"
      },
      "source": [
        "As a second option, you can visualise the privacy risk scores again as a histogram of the distribution of the k-top data points with the highest privacy risk scores per class, but this time the values are relative to the size of respective classe"
      ],
      "id": "AGDmsiYkJgSW"
    },
    {
      "cell_type": "code",
      "metadata": {
        "colab": {
          "base_uri": "https://localhost:8080/",
          "height": 281
        },
        "id": "zIvg1hJhJiHM",
        "outputId": "23930419-448d-4226-92c9-4e1f9029d06f"
      },
      "source": [
        "# Plot relative values \n",
        "labels, count = output.histogram_top_k_relative(range(10), 50)"
      ],
      "id": "zIvg1hJhJiHM",
      "execution_count": 20,
      "outputs": [
        {
          "output_type": "display_data",
          "data": {
            "image/png": "[encoded data removed]",
            "text/plain": [
              "<Figure size 432x288 with 1 Axes>"
            ]
          },
          "metadata": {
            "tags": [],
            "needs_background": "light"
          }
        }
      ]
    },
    {
      "cell_type": "markdown",
      "metadata": {
        "id": "uDcpMoQpJjkE"
      },
      "source": [
        "#### Explanation of the outcome:\n",
        "\n",
        "##### Vulnerability of individual data points:\n",
        "The training data points that exhibit an increased membership privacy risk might differ from their classes mean samples (outliers) [7]. You could check them again, see if they have the correct label, or if they exhibit any non-standard properties for the class. If so, correct them. It was also shown that points with an high influence on the decision boundary are more vulnerable to membership inference attacks [5]. Therefore, these points might be important. If you want to protect them, you might add several similar training samples as they are to the class. \n",
        "\n",
        "\n",
        "(For References, please see last box)"
      ],
      "id": "uDcpMoQpJjkE"
    },
    {
      "cell_type": "markdown",
      "metadata": {
        "id": "xG4nYKGzWx7i"
      },
      "source": [
        "### TensorFlow\n",
        "\n",
        "Now we do the same with the TensorFlow model."
      ],
      "id": "xG4nYKGzWx7i"
    },
    {
      "cell_type": "markdown",
      "metadata": {
        "id": "_7ty54AKWx7k"
      },
      "source": [
        "#### Prepare target model\n",
        "\n",
        "Now, we need to initialize our pre-trained Lightweight Deep Convolutional Neural Network (short DCTI) as a generic `Classifier`. Therefore we need to specify the loss function used to train the model (in our case the `tf.keras.losses.CategoricalCrossentropy`), the number of classes and the input shape of our CIFAR-10 dataset."
      ],
      "id": "_7ty54AKWx7k"
    },
    {
      "cell_type": "code",
      "metadata": {
        "id": "Uhrn5znOWx7k",
        "colab": {
          "base_uri": "https://localhost:8080/"
        },
        "outputId": "e8162ec6-d35b-4990-b364-dd30d1dfa5ca"
      },
      "source": [
        "# Initalize TensorFlow target model\n",
        "target_model = Classifier(\n",
        "    tf_dcti.load_dcti(), # TensorFlow DCTI\n",
        "    loss=tf.keras.losses.CategoricalCrossentropy(), # Loss function of the TensorFlow target model\n",
        "    nb_classes=TFCIFAR10.N_CLASSES, # Number of classes of the CIFAR10 dataset\n",
        "    input_shape=TFCIFAR10.INPUT_SHAPE # Input shape of the CIFAR10 dataset\n",
        ")"
      ],
      "id": "Uhrn5znOWx7k",
      "execution_count": 21,
      "outputs": [
        {
          "output_type": "stream",
          "text": [
            "WARNING:tensorflow:SavedModel saved prior to TF 2.5 detected when loading Keras model. Please ensure that you are saving the model with model.save() or tf.keras.models.save_model(), *NOT* tf.saved_model.save(). To confirm, there should be a file named \"keras_metadata.pb\" in the SavedModel directory.\n"
          ],
          "name": "stdout"
        }
      ]
    },
    {
      "cell_type": "markdown",
      "metadata": {
        "id": "UBfeudg_Wx7i"
      },
      "source": [
        "#### Load CIFAR10 Dataset\n",
        "\n",
        "Again, before we can start to conduct the membership inference attacks, we need to load the dataset. The CIFAR10 dataset needs to be preprocessed in a specific manner to work for the TensorFlow model."
      ],
      "id": "UBfeudg_Wx7i"
    },
    {
      "cell_type": "code",
      "metadata": {
        "id": "kAJgfSgoWx7j",
        "colab": {
          "base_uri": "https://localhost:8080/"
        },
        "outputId": "c5bc9052-7c5a-42ae-b392-c49499a6d9d3"
      },
      "source": [
        "# Load CIFAR10 dataset as numpy array\n",
        "x_train, y_train, x_test, y_test = TFCIFAR10.numpy()"
      ],
      "id": "kAJgfSgoWx7j",
      "execution_count": 22,
      "outputs": [
        {
          "output_type": "stream",
          "text": [
            "Downloading data from https://www.cs.toronto.edu/~kriz/cifar-10-python.tar.gz\n",
            "170500096/170498071 [==============================] - 4s 0us/step\n"
          ],
          "name": "stdout"
        }
      ]
    },
    {
      "cell_type": "markdown",
      "metadata": {
        "id": "mLC_hmb8Wx7l"
      },
      "source": [
        "#### Perform Membership Inference Black Box Attack\n",
        "\n",
        "First, we want to attack our target model with the Membership Inference  Black Box Attack. Thus, we initialize the attack with the target model and a dataset used to fit the attack model. The dataset consists of two different sets. The first contains the data (`x_train`) and its corresponding labels (`y_train`) which were used to train the target model. The second contains the data (`x_test`) and its corresponding labels (`y_test`) which were not part of the training process of the target model. After the initialization, we first need to fit the attack model before we can attack the target model. To attack certain data points, we simply input them into the `attack()` method. The result of the attack is an array holding the inferred membership status, 1 indicates a member and 0 indicates non-member."
      ],
      "id": "mLC_hmb8Wx7l"
    },
    {
      "cell_type": "code",
      "metadata": {
        "id": "QLddiPbkWx7l",
        "colab": {
          "base_uri": "https://localhost:8080/"
        },
        "outputId": "55bbd171-229b-41fd-8a00-8e45ecc4bf03"
      },
      "source": [
        "attack = MembershipInferenceBlackBoxAttack(\n",
        "    target_model, \n",
        "    x_train[:100], \n",
        "    y_train[:100], \n",
        "    x_test[:100], \n",
        "    y_test[:100]\n",
        ")\n",
        "\n",
        "attack.fit()\n",
        "attack.attack(x_train[:100], y_train[:100])"
      ],
      "id": "QLddiPbkWx7l",
      "execution_count": 23,
      "outputs": [
        {
          "output_type": "execute_result",
          "data": {
            "text/plain": [
              "array([0, 0, 1, 1, 1, 1, 1, 1, 1, 0, 0, 1, 1, 1, 1, 0, 1, 0, 1, 0, 1, 0,\n",
              "       1, 1, 1, 0, 0, 1, 1, 1, 0, 1, 0, 1, 1, 1, 0, 1, 1, 1, 0, 1, 1, 1,\n",
              "       1, 1, 1, 1, 1, 1, 1, 1, 1, 1, 1, 1, 1, 0, 1, 1, 1, 1, 1, 0, 1, 1,\n",
              "       0, 1, 1, 1, 0, 0, 1, 0, 0, 1, 1, 0, 1, 1, 0, 1, 1, 1, 1, 1, 1, 1,\n",
              "       1, 1, 0, 1, 1, 0, 1, 1, 1, 1, 1, 1])"
            ]
          },
          "metadata": {
            "tags": []
          },
          "execution_count": 23
        }
      ]
    },
    {
      "cell_type": "markdown",
      "metadata": {
        "id": "bnE8ETvRWx7m"
      },
      "source": [
        "#### Get machine-readable attack statistics\n",
        "\n",
        "Besides the inferred membership status, we can create more general statistics. To do so, we generate an attack output by providing again the data points which should be attacked and the correct inferred membership labels (in this case all attacked data points are part of the training dataset and thus for all of them a membership should be predicted by the attack model). As result, we get the accuracy, the train-to-test accuracy gap and the train-to-test ratio for the target model and the accuracy for the attack model."
      ],
      "id": "bnE8ETvRWx7m"
    },
    {
      "cell_type": "code",
      "metadata": {
        "id": "ysx92hInWx7n",
        "colab": {
          "base_uri": "https://localhost:8080/",
          "height": 36
        },
        "outputId": "a8a6f04a-53b4-4c70-82e7-115aea79646d"
      },
      "source": [
        "output = attack.attack_output(\n",
        "    x_train[:100], \n",
        "    y_train[:100], \n",
        "    np.ones((100,))\n",
        ")\n",
        "\n",
        "output.to_json()"
      ],
      "id": "ysx92hInWx7n",
      "execution_count": 24,
      "outputs": [
        {
          "output_type": "execute_result",
          "data": {
            "application/vnd.google.colaboratory.intrinsic+json": {
              "type": "string"
            },
            "text/plain": [
              "'{\"target_model_train_accuracy\": 0.99, \"target_model_test_accuracy\": 0.91, \"target_model_train_to_test_accuracy_gap\": 0.07999999999999996, \"target_model_train_to_test_accuracy_ratio\": 1.0879120879120878, \"attack_model_accuracy\": 0.75}'"
            ]
          },
          "metadata": {
            "tags": []
          },
          "execution_count": 24
        }
      ]
    },
    {
      "cell_type": "markdown",
      "metadata": {
        "id": "ZnNgIXJC7ppu"
      },
      "source": [
        "#### Explanation of the outcome:\n",
        "\n",
        "Attack Model Accuracy:\n",
        "The attack model accuracy specifies how well the membership attack model performs in predicting if a given data point was used for training the target model. Since we have a two-class classification problem that the attack model solves (member or non-member), the lowest possible accuracy is 50% (random guessing for each sample). The best accuracy is at 100% if the model predicts every data point is sees right as member or non-member.\n",
        "\n",
        "Train-Test-Gap (difference):\n",
        "If your model has a train-test-gap larger than 5%, this could be a sign that your model overfits. Overfitting can be beneficial for successful membership inference attacks [1]. Therefore, you might want to reduce it by introducing regularization methods in your training, or using specific privacy methods [2,3], such as Differential Privacy [4].\n",
        "\n",
        "(For References, please see last box)\n"
      ],
      "id": "ZnNgIXJC7ppu"
    },
    {
      "cell_type": "markdown",
      "metadata": {
        "id": "mrnYkSK0JqNs"
      },
      "source": [
        "#### Perpare attack analysis\n",
        "\n",
        "Next, we prepare our attack analysis. To initialize our attack analysis we define the Membership Inference Attack method we want to perform (in this case we use the `MembershipInferenceBlackBoxAttack`) and the Attack Input Data. The Attack Input Data consists of two different sets. The first contains the data (`x_train`) and its corresponding labels (`y_train`) which were used to train the target model. The second contains the data (`x_test`) and its corresponding labels (`y_test`) which were not part of the training process of the target model."
      ],
      "id": "mrnYkSK0JqNs"
    },
    {
      "cell_type": "code",
      "metadata": {
        "id": "gEyz9CDkJr1Z"
      },
      "source": [
        "analysis = MembershipInferenceAttackAnalysis(\n",
        "    MembershipInferenceBlackBoxAttack, \n",
        "    AttackInputData(\n",
        "        x_train[:100], \n",
        "        y_train[:100], \n",
        "        x_test[:100], \n",
        "        y_test[:100]\n",
        "    )\n",
        ")"
      ],
      "id": "gEyz9CDkJr1Z",
      "execution_count": 25,
      "outputs": []
    },
    {
      "cell_type": "markdown",
      "metadata": {
        "id": "9UEL4XUBJtUP"
      },
      "source": [
        "#### Define the slicing\n",
        "\n",
        "Now we can define the slicing for our analysis. The slicing defines how the data will be sliced. Each slice will then be analysed separately. "
      ],
      "id": "9UEL4XUBJtUP"
    },
    {
      "cell_type": "code",
      "metadata": {
        "id": "YeGUtkbKJvmv"
      },
      "source": [
        "slicing = Slicing(\n",
        "    entire_dataset=True, \n",
        "    by_class=True, \n",
        "    by_classification_correctness=True\n",
        ")"
      ],
      "id": "YeGUtkbKJvmv",
      "execution_count": 26,
      "outputs": []
    },
    {
      "cell_type": "markdown",
      "metadata": {
        "id": "cT3cZVFFJxJq"
      },
      "source": [
        "#### Perform Membership Inference Attack Analysis\n",
        "\n",
        "Finally, we can perform our Membership Inference Attack Analysis. Therefore, we input the target model, the data that should be analysed, the membership labels (i.e. the labels which correctly describe if a data point is a member of the training dataset or not) and the splicing specification into the `analyse()` method. As a result, we get for each slice the indices of the corresponding data points, a human-readable description of the slice and the advantage score of the Membership Inference Attack (for more details about the advantage score, please read the following paper: https://arxiv.org/abs/1709.01604)."
      ],
      "id": "cT3cZVFFJxJq"
    },
    {
      "cell_type": "code",
      "metadata": {
        "colab": {
          "base_uri": "https://localhost:8080/"
        },
        "id": "gFQuFLedJzEo",
        "outputId": "3a86763a-c4af-4844-c659-800a7eab2211"
      },
      "source": [
        "result = analysis.analyse(\n",
        "    target_model, \n",
        "    np.concatenate((x_train[:100], x_test[:100])), \n",
        "    np.concatenate((y_train[:100], y_test[:100])), \n",
        "    np.concatenate((np.ones(len(x_train[:100])), np.zeros(len(x_test[:100])))), \n",
        "    slicing\n",
        ")\n",
        "\n",
        "print(\"\\n\".join((str(r) for r in result)))"
      ],
      "id": "gFQuFLedJzEo",
      "execution_count": 27,
      "outputs": [
        {
          "output_type": "stream",
          "text": [
            "MembershipInferenceAttackAnalysisSliceResult(\n",
            "  Slice(\n",
            "    indices: [  0   1 ... 198 199]\n",
            "    desc: Entire dataset\n",
            "  )\n",
            "  advantage: 0.0900\n",
            ")\n",
            "MembershipInferenceAttackAnalysisSliceResult(\n",
            "  Slice(\n",
            "    indices: [  0   1 ... 198 199]\n",
            "    desc: Correctly classified\n",
            "  )\n",
            "  advantage: 0.0004\n",
            ")\n",
            "MembershipInferenceAttackAnalysisSliceResult(\n",
            "  Slice(\n",
            "    indices: [ 84 132 135 137 147 152 157 158 161 178]\n",
            "    desc: Incorrectly classified\n",
            "  )\n",
            "  advantage: 0.3333\n",
            ")\n",
            "MembershipInferenceAttackAnalysisSliceResult(\n",
            "  Slice(\n",
            "    indices: [ 29  30 ... 197 198]\n",
            "    desc: Class=0\n",
            "  )\n",
            "  advantage: 0.1000\n",
            ")\n",
            "MembershipInferenceAttackAnalysisSliceResult(\n",
            "  Slice(\n",
            "    indices: [  4   5 ... 181 182]\n",
            "    desc: Class=1\n",
            "  )\n",
            "  advantage: 0.0000\n",
            ")\n",
            "MembershipInferenceAttackAnalysisSliceResult(\n",
            "  Slice(\n",
            "    indices: [  6  13 ... 184 186]\n",
            "    desc: Class=2\n",
            "  )\n",
            "  advantage: 0.0769\n",
            ")\n",
            "MembershipInferenceAttackAnalysisSliceResult(\n",
            "  Slice(\n",
            "    indices: [  9  17 ... 178 191]\n",
            "    desc: Class=3\n",
            "  )\n",
            "  advantage: 0.2308\n",
            ")\n",
            "MembershipInferenceAttackAnalysisSliceResult(\n",
            "  Slice(\n",
            "    indices: [  3  10 ... 158 194]\n",
            "    desc: Class=4\n",
            "  )\n",
            "  advantage: 0.1818\n",
            ")\n",
            "MembershipInferenceAttackAnalysisSliceResult(\n",
            "  Slice(\n",
            "    indices: [ 27  40 ... 142 185]\n",
            "    desc: Class=5\n",
            "  )\n",
            "  advantage: 0.0000\n",
            ")\n",
            "MembershipInferenceAttackAnalysisSliceResult(\n",
            "  Slice(\n",
            "    indices: [  0  19 ... 195 196]\n",
            "    desc: Class=6\n",
            "  )\n",
            "  advantage: 0.0000\n",
            ")\n",
            "MembershipInferenceAttackAnalysisSliceResult(\n",
            "  Slice(\n",
            "    indices: [  7  11 ... 187 199]\n",
            "    desc: Class=7\n",
            "  )\n",
            "  advantage: 0.1818\n",
            ")\n",
            "MembershipInferenceAttackAnalysisSliceResult(\n",
            "  Slice(\n",
            "    indices: [  8  62 ... 188 192]\n",
            "    desc: Class=8\n",
            "  )\n",
            "  advantage: 0.0000\n",
            ")\n",
            "MembershipInferenceAttackAnalysisSliceResult(\n",
            "  Slice(\n",
            "    indices: [  1   2 ... 176 189]\n",
            "    desc: Class=9\n",
            "  )\n",
            "  advantage: 0.0000\n",
            ")\n"
          ],
          "name": "stdout"
        }
      ]
    },
    {
      "cell_type": "markdown",
      "metadata": {
        "id": "V9n1Y1AuJ0YY"
      },
      "source": [
        "#### Explanation of the outcome:\n",
        "##### Attacker Advantage:\n",
        "The attacker advantageis a score that relies on comparing the model output on member and non-member data points. The model outputs are probability values over all classes, and they are often different on member and non-member data points. Usually, the model is more confident on member data points, because it has seen them during training. When trying to find a threshold value to tell apart member and non-member samples by their different model outputs, the attacker has interest in finding the best ratio between false positives “fpr” (non-members that are classified as members) and true positives “tpr” (members that are correctly identifies as members). \n",
        "\n",
        "This best ratio is calculated as the max(tpr-fpr) over all threshold values and represents the attacker advantage. \n",
        "\n",
        "##### Slicing: Incorrectly classified:\n",
        "It is normal that the attacker is more successful to deduce membership on incorrectly classified samples than on correctly classified ones. This results from the fact, that model predictions are often better on training than on test data points, whereby your attack model might learn to predict incorrectly classified samples as non-members. If your model overfits the training data, this assumption might hold true often enough to make the attack seem more successful on this slice. If you wish to reduce that, pay attention to reducing your model’s overfitting.\n",
        "\n",
        "##### Slicing: Specific classes more vulnerable: \n",
        "It seems that the membership inference attack is more successful on your class X than on the other classes. Research has shown that the class distribution (and also the distribution of data points within one class) are factors that influence the vulnerability of a class for membership inference attacks [5].\n",
        "\n",
        "Also, small classes (belonging to minority groups) can be more prone to membership inference attacks [6]. One reason for this could be, that there is less data for that class, and therefore, the model overfits within this class. It might make sense to look into the vulnerable classes of your model again, and maybe add more data to them, use private synthetic data, or introduce privacy methods like Differential Privacy [6]. Attention, the use of Differential Privacy could have a negative influence on the performance of your model for the minority classes.\n",
        "\n",
        "\n",
        "(For References, please see last box)"
      ],
      "id": "V9n1Y1AuJ0YY"
    },
    {
      "cell_type": "markdown",
      "metadata": {
        "id": "Tiy6rLnLJ3BJ"
      },
      "source": [
        "#### Compute privacy risk score\n",
        "\n",
        "As a next step, we want to compute the privacy risk scores. To do so, we input the target model and the data points which should be evaluated to the respective function. The given data points are separated into a train and tests set. The train set contains of the data (`x_train`) and its corresponding labels (`y_train`) which were used to train the target model. The test set contains the data (`x_test`) and its corresponding labels (`y_test`) which were not part of the training process of the target model. As a result, we get privacy risk scores for each data point, separated into train and test scores. The resulting values indicate the probability of a data point being a member or not."
      ],
      "id": "Tiy6rLnLJ3BJ"
    },
    {
      "cell_type": "code",
      "metadata": {
        "id": "4ESRttHsJ4iy"
      },
      "source": [
        "# Compute privacy risk score for the TensorFlow target model\n",
        "(\n",
        "    train_privacy_risk_score, \n",
        "    test_privacy_risk_score\n",
        ") = compute_privacy_risk_score(\n",
        "    target_model, \n",
        "    x_train[:100], \n",
        "    y_train[:100], \n",
        "    x_test[:100], \n",
        "    y_test[:100]\n",
        ")"
      ],
      "id": "4ESRttHsJ4iy",
      "execution_count": 28,
      "outputs": []
    },
    {
      "cell_type": "markdown",
      "metadata": {
        "id": "5Y_V4NeRJ5oo"
      },
      "source": [
        "#### Get human-readable privacy risk score statistics\n",
        "\n",
        "Besides the privacy risk scores, we can create more human-readable statistics. Therefore we generate an output by providing the privacy risk scores and the true labels of the data points for which we computed the privacy risk scores. This output can then be visualized in two separate ways."
      ],
      "id": "5Y_V4NeRJ5oo"
    },
    {
      "cell_type": "code",
      "metadata": {
        "id": "io-ALugGJ7K-"
      },
      "source": [
        "# Create user output and plot histogram for train dataset\n",
        "output = UserOutputPrivacyScore(\n",
        "    np.argmax(y_train[:100], axis=1), \n",
        "    train_privacy_risk_score, \n",
        ")"
      ],
      "id": "io-ALugGJ7K-",
      "execution_count": 29,
      "outputs": []
    },
    {
      "cell_type": "markdown",
      "metadata": {
        "id": "_o2JUcg7J8NW"
      },
      "source": [
        "The first way to visualise the privacy risk scores is as a histogram. The histogram shows the distribution of the k-top data points with the highest privacy risk scores per class."
      ],
      "id": "_o2JUcg7J8NW"
    },
    {
      "cell_type": "code",
      "metadata": {
        "colab": {
          "base_uri": "https://localhost:8080/",
          "height": 281
        },
        "id": "XoeBWIv-J9WL",
        "outputId": "09e48f0a-238e-44da-eabd-a094e024074d"
      },
      "source": [
        "# Plot absolut values \n",
        "labels, count = output.histogram_top_k(range(10), 50)"
      ],
      "id": "XoeBWIv-J9WL",
      "execution_count": 30,
      "outputs": [
        {
          "output_type": "display_data",
          "data": {
            "image/png": "[encoded data removed]",
            "text/plain": [
              "<Figure size 432x288 with 1 Axes>"
            ]
          },
          "metadata": {
            "tags": [],
            "needs_background": "light"
          }
        }
      ]
    },
    {
      "cell_type": "markdown",
      "metadata": {
        "id": "9SxO_JogJ-iy"
      },
      "source": [
        "As a second option, you can visualise the privacy risk scores again as a histogram of the distribution of the k-top data points with the highest privacy risk scores per class, but this time the values are relative to the size of respective classe"
      ],
      "id": "9SxO_JogJ-iy"
    },
    {
      "cell_type": "code",
      "metadata": {
        "colab": {
          "base_uri": "https://localhost:8080/",
          "height": 281
        },
        "id": "X9XjcpfpJ_oE",
        "outputId": "16d82541-db11-4f57-822e-144fb7c258b9"
      },
      "source": [
        "# Plot relative values \n",
        "labels, count = output.histogram_top_k_relative(range(10), 50)"
      ],
      "id": "X9XjcpfpJ_oE",
      "execution_count": 31,
      "outputs": [
        {
          "output_type": "display_data",
          "data": {
            "image/png": "[encoded data removed]",
            "text/plain": [
              "<Figure size 432x288 with 1 Axes>"
            ]
          },
          "metadata": {
            "tags": [],
            "needs_background": "light"
          }
        }
      ]
    },
    {
      "cell_type": "markdown",
      "metadata": {
        "id": "qJoSOv10KA7d"
      },
      "source": [
        "#### Explanation of the outcome:\n",
        "\n",
        "##### Vulnerability of individual data points:\n",
        "The training data points that exhibit an increased membership privacy risk might differ from their classes mean samples (outliers) [7]. You could check them again, see if they have the correct label, or if they exhibit any non-standard properties for the class. If so, correct them. It was also shown that points with an high influence on the decision boundary are more vulnerable to membership inference attacks [5]. Therefore, these points might be important. If you want to protect them, you might add several similar training samples as they are to the class. \n",
        "\n",
        "\n",
        "(For References, please see last box)"
      ],
      "id": "qJoSOv10KA7d"
    },
    {
      "cell_type": "markdown",
      "metadata": {
        "id": "DmyWRprb842M"
      },
      "source": [
        "[1]S. Yeom, I. Giacomelli, M. Fredrikson, and S. Jha. \\Privacy Risk in Machine Learning: Analyzing the Connection to Overfitting\". In: 2018 IEEE 31st Computer Security Foundations Symposium (CSF). July 2018, pp. 268{282. doi:10.1109/CSF.2018.00027.\n",
        "\n",
        "[2] Reza Shokri, Marco Stronati, Congzheng Song, and Vitaly Shmatikov. 2017. Mem-bership Inference Attacks Against Machine Learning Models. In2017 IEEE Sym-posium on Security and Privacy (SP). 3–18.\n",
        "\n",
        "[3] Milad Nasr, Reza Shokri, and Amir Houmansadr. 2018. Machine Learning withMembership Privacy Using Adversarial Regularization. InProceedings of the 2018ACM SIGSAC Conference on Computer and Communications Security(Toronto,Canada)(CCS ’18). Association for Computing Machinery, New York, NY, USA,634–64\n",
        "\n",
        "[4] Cynthia Dwork. 2006.  Differential Privacy. InAutomata, Languages and Pro-gramming, Michele Bugliesi, Bart Preneel, Vladimiro Sassone, and Ingo Wegener(Eds.). Springer Berlin Heidelberg, Berlin, Heidelberg\n",
        "\n",
        "[5] Stacey Truex, Ling Liu, Mehmet Emre Gursoy, Lei Yu, and Wenqi Wei. 2019.Demystifying Membership Inference Attacks in Machine Learning as a Service.IEEE Transactions on Services Computing(2019)\n",
        "\n",
        "[6] Suriyakumar, Vinith M., Nicolas Papernot, Anna Goldenberg, and Marzyeh Ghassemi. \"Chasing Your Long Tails: Differentially Private Prediction in Health Care Settings.\" In Proceedings of the 2021 ACM Conference on Fairness, Accountability, and Transparency, pp. 723-734. 2021.\n",
        "\n",
        "[7] Yunhui Long, Vincent Bindschaedler, Lei Wang, Diyue Bu, Xiaofeng Wang, HaixuTang, Carl A. Gunter, and Kai Chen. 2018.   Understanding Membership In-ferences on Well-Generalized Learning Models.CoRRabs/1802.04889 (2018).arXiv:1802.04889  http://arxiv.org/abs/1802.0\n"
      ],
      "id": "DmyWRprb842M"
    }
  ]
}